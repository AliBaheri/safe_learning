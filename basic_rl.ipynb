{
 "cells": [
  {
   "cell_type": "code",
   "execution_count": null,
   "metadata": {
    "collapsed": false
   },
   "outputs": [],
   "source": [
    "import numpy as np\n",
    "import matplotlib.pyplot as plt\n",
    "import cvxpy\n",
    "import safe_rl\n",
    "from safe_rl import Triangulation\n",
    "\n",
    "%matplotlib inline\n",
    "# %config InlineBackend.figure_format = 'svg'\n",
    "%load_ext autoreload\n",
    "%autoreload 2"
   ]
  },
  {
   "cell_type": "code",
   "execution_count": null,
   "metadata": {
    "collapsed": false
   },
   "outputs": [],
   "source": [
    "domain = [(-1, 1), (-1, 1)]\n",
    "num_points = [3, 3]\n",
    "\n",
    "discretization = np.meshgrid(np.linspace(domain[0][0], domain[0][1], num_points[0]),\n",
    "                             np.linspace(domain[1][0], domain[1][1], num_points[1]))\n",
    "\n",
    "discretization = np.array([x.ravel() for x in discretization]).T\n",
    "\n",
    "triangulation = Triangulation(discretization)"
   ]
  },
  {
   "cell_type": "markdown",
   "metadata": {},
   "source": [
    "#### Get matrix for values of test points\n",
    "\n",
    "For each vertex x, the next state is given by some function $f(x)$. The goal is to find the value $V(f(x))$ as a function of the values at the other vertices. This value can then be used as a constraint in the optimization problem.\n",
    "$$V(f(x)) = a^\\mathrm{T} V(\\mathrm{vertices})$$\n",
    "\n",
    "We start by finding the simplex corresponding to $f(x)$. Given this simplex's vertices, we solve for $a$ above, using one arbitrary vertex as a reference point:\n",
    "$$V(f(x)) = V(v_1) + a_1 V(v_2) + a_2 V(v_3)$$\n",
    "\n",
    "The hyperplane spanned by the simplex is given by\n",
    "\\begin{align*}\n",
    "\\xi_1 ( x_2 - x_1) + \\xi_2 (y_2 - y_1) = V(v_2) - V(v_1) \\\\\n",
    "\\xi_1 ( x_3 - x_1) + \\xi_2 (y_3 - y_1) = V(v_3) - V(v_1) \n",
    "\\end{align*}\n",
    "\n",
    "and, as a result,\n",
    "$$V(f(x_t)) = V(v_1) + (x_t - x_1, y_t - y_1)\n",
    "\\left( \\begin{matrix}\n",
    "x_2 - x_1 & y_2 - y_1 \\\\\n",
    "x_3 - x_1 & y_3 - y_1\n",
    "\\end{matrix} \\right)^{-1}\n",
    "\\left( \\begin{matrix}\n",
    "V(v_2) - V(v_1) \\\\\n",
    "V(v_3) - V(v_1)\n",
    "\\end{matrix} \\right),\n",
    "$$\n",
    "which can easily be solved for $a_1$ and $a_2$."
   ]
  },
  {
   "cell_type": "code",
   "execution_count": null,
   "metadata": {
    "collapsed": false
   },
   "outputs": [],
   "source": [
    "plt.triplot(triangulation.points[:, 0], triangulation.points[:, 1], triangulation.simplices.copy())\n",
    "plt.plot(triangulation.points[:, 0], triangulation.points[:, 1], 'o')\n",
    "plt.ylim(domain[0])\n",
    "plt.xlim(domain[1])\n",
    "plt.show()"
   ]
  },
  {
   "cell_type": "code",
   "execution_count": null,
   "metadata": {
    "collapsed": false
   },
   "outputs": [],
   "source": [
    "B = triangulation.function_values_at(discretization + 0.25)\n",
    "print(B.todense())\n",
    "# print(B.todense().dot(np.random.randn(len(discretization), 1)))"
   ]
  },
  {
   "cell_type": "code",
   "execution_count": null,
   "metadata": {
    "collapsed": false
   },
   "outputs": [],
   "source": [
    "triangulation.simplices[0, :]"
   ]
  },
  {
   "cell_type": "markdown",
   "metadata": {},
   "source": [
    "# The following ist just a random example of how cvxpy works"
   ]
  },
  {
   "cell_type": "code",
   "execution_count": null,
   "metadata": {
    "collapsed": false
   },
   "outputs": [],
   "source": [
    "# Generate data for long only portfolio optimization.\n",
    "np.random.seed(1)\n",
    "n = 10\n",
    "mu = np.abs(np.random.randn(n, 1))\n",
    "Sigma = np.random.randn(n, n)\n",
    "Sigma = Sigma.T.dot(Sigma)\n",
    "\n",
    "# Long only portfolio optimization.\n",
    "# from cvxpy import *\n",
    "w = cvxpy.Variable(n)\n",
    "gamma = cvxpy.Parameter(sign='positive')\n",
    "ret = mu.T*w \n",
    "risk = cvxpy.quad_form(w, Sigma)\n",
    "prob = cvxpy.Problem(cvxpy.Maximize(ret - gamma*risk), \n",
    "                    [cvxpy.sum_entries(w) == 1, \n",
    "                     w >= 0])\n",
    "\n",
    "# Compute trade-off curve.\n",
    "SAMPLES = 100\n",
    "risk_data = np.zeros(SAMPLES)\n",
    "ret_data = np.zeros(SAMPLES)\n",
    "gamma_vals = np.logspace(-2, 3, num=SAMPLES)\n",
    "for i in range(SAMPLES):\n",
    "    gamma.value = gamma_vals[i]\n",
    "    prob.solve()\n",
    "    risk_data[i] = np.sqrt(risk.value)\n",
    "    ret_data[i] = ret.value\n",
    "\n",
    "# Plot long only trade-off curve.\n",
    "\n",
    "markers_on = [29, 40]\n",
    "fig = plt.figure()\n",
    "ax = fig.add_subplot(111)\n",
    "plt.plot(risk_data, ret_data, 'g-')\n",
    "for marker in markers_on:\n",
    "    plt.plot(risk_data[marker], ret_data[marker], 'bs')\n",
    "    ax.annotate(r\"$\\gamma = %.2f$\" % gamma_vals[marker], xy=(risk_data[marker]+.08, ret_data[marker]-.03))\n",
    "for i in range(n):\n",
    "    plt.plot(np.sqrt(Sigma[i,i]), mu[i], 'ro')\n",
    "plt.xlabel('Standard deviation')\n",
    "plt.ylabel('Return')\n",
    "plt.show()"
   ]
  }
 ],
 "metadata": {
  "kernelspec": {
   "display_name": "Python 2",
   "language": "python",
   "name": "python2"
  },
  "language_info": {
   "codemirror_mode": {
    "name": "ipython",
    "version": 2
   },
   "file_extension": ".py",
   "mimetype": "text/x-python",
   "name": "python",
   "nbconvert_exporter": "python",
   "pygments_lexer": "ipython2",
   "version": "2.7.12"
  }
 },
 "nbformat": 4,
 "nbformat_minor": 0
}
