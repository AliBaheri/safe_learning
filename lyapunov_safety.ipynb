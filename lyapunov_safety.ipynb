{
 "cells": [
  {
   "cell_type": "code",
   "execution_count": null,
   "metadata": {
    "collapsed": true
   },
   "outputs": [],
   "source": [
    "from __future__ import division, print_function\n",
    "\n",
    "import GPy\n",
    "import numpy as np\n",
    "import scipy as sp\n",
    "import matplotlib.pyplot as plt\n",
    "%matplotlib inline"
   ]
  },
  {
   "cell_type": "code",
   "execution_count": null,
   "metadata": {
    "collapsed": false
   },
   "outputs": [],
   "source": [
    "# parameter grid\n",
    "def combinations(arrays):\n",
    "    \"\"\"Return a single array with combinations of parameters\n",
    "    \n",
    "    Parameters\n",
    "    ----------\n",
    "    arrays - list of np.array\n",
    "    \n",
    "    Returns\n",
    "    -------\n",
    "    array - np.array\n",
    "        An array that contains all combinations of the input arrays\n",
    "    \"\"\"\n",
    "    return np.array(np.meshgrid(*arrays)).T.reshape(-1, len(arrays))\n",
    "\n",
    "\n",
    "# x_min, x_max, n_samples\n",
    "grid_param = [(-1, 1, 10),\n",
    "              (-1, 1, 10)]\n",
    "\n",
    "grid = combinations([np.linspace(*x) for x in grid_param])"
   ]
  },
  {
   "cell_type": "code",
   "execution_count": null,
   "metadata": {
    "collapsed": false
   },
   "outputs": [],
   "source": [
    "def line_search_bisection(f, bound, accuracy):\n",
    "    \"\"\"Maximize c so that constraint fulfilled.\n",
    "    \n",
    "    Parameters\n",
    "    ----------\n",
    "    f - callable\n",
    "        A function that takes a scalar value and return True if\n",
    "        the constraint is fulfilled, False otherwise.\n",
    "    bound - list\n",
    "        Interval within which to search\n",
    "    accuracy - float\n",
    "        The interval up to which the algorithm shall search\n",
    "        \n",
    "    Returns\n",
    "    -------\n",
    "    c - float\n",
    "        The maximum value c so that the constraint is fulfilled    \n",
    "    \"\"\"\n",
    "    # Break if lower bound does not fulfill constraint\n",
    "    if not f(bound[0]):\n",
    "        return None\n",
    "    \n",
    "    if f(bound[1]):\n",
    "        return bound[1]\n",
    "    \n",
    "    while bound[1] - bound[0] > accuracy:\n",
    "        mean = (bound[0] + bound[1]) / 2\n",
    "        \n",
    "        if f(mean):\n",
    "            bound[0] = mean\n",
    "        else:\n",
    "            bound[1] = mean\n",
    "    \n",
    "    return bound[0]"
   ]
  },
  {
   "cell_type": "code",
   "execution_count": null,
   "metadata": {
    "collapsed": false
   },
   "outputs": [],
   "source": [
    "def lqr(A, B, Q, R):\n",
    "    \"\"\"\n",
    "    Compute the continuous time LQR-controller. \n",
    "    \n",
    "    Parameters\n",
    "    ----------\n",
    "    A - np.array\n",
    "    B - np.array\n",
    "    Q - np.array\n",
    "    R - np.array\n",
    "     \n",
    "    Returns\n",
    "    -------\n",
    "    K - np.array\n",
    "        Controller matrix\n",
    "    P - np.array\n",
    "        Cost to go matrix\n",
    "    \"\"\"\n",
    " \n",
    "    #first, try to solve the ricatti equation\n",
    "    P = sp.linalg.solve_continuous_are(A, B, Q, R)\n",
    "     \n",
    "    #compute the LQR gain\n",
    "    K = np.linalg.solve(R, B.T.dot(P))\n",
    "     \n",
    "    return K, P\n",
    "\n",
    "\n",
    "def quadratic_lyapunov_function(x, P):\n",
    "    \"\"\"\n",
    "    Compute V(x) for quadratic Lyapunov function\n",
    "    \n",
    "    V(x) = x.T P x\n",
    "    \n",
    "    Equivalent, but slower implementation:\n",
    "    np.array([ xi.dot(p.dot(xi.T)) for xi in x])\n",
    "    \n",
    "    Parameters\n",
    "    ----------\n",
    "    x - np.array\n",
    "        2d array that has a vector x on each row\n",
    "    P - np.array\n",
    "        2d cost matrix for lyapunov function\n",
    "\n",
    "    Returns\n",
    "    -------\n",
    "    V - np.array\n",
    "        1d array with V(x)\n",
    "    dV - np.array\n",
    "        2d array with dV(x)/dx on each row\n",
    "    \"\"\"\n",
    "    return np.sum(x.dot(P) * x, axis=1), x.dot(P)"
   ]
  },
  {
   "cell_type": "code",
   "execution_count": null,
   "metadata": {
    "collapsed": false
   },
   "outputs": [],
   "source": [
    "A = np.array([[0, 1],\n",
    "              [0, 0]])\n",
    "\n",
    "B = np.array([[0],\n",
    "              [1]])\n",
    "\n",
    "Q = np.diag([1, 0.01])\n",
    "R = np.array([[0.1]])\n",
    "\n",
    "K, P = lqr(A, B, Q, R)\n",
    "\n",
    "def control_law(x):\n",
    "    return x.dot(K.T)\n",
    "\n",
    "def true_dynamics(x, u):\n",
    "    u = np.asarray(u)\n",
    "    np.clip(u, -0.5, 0.5, out=u)\n",
    "    x = np.asarray(x)\n",
    "    return x.dot(A.T) + u.dot(B.T)\n",
    "\n",
    "\n",
    "# Initial safe set\n",
    "S0 = np.linalg.norm(grid, axis=1) < 0.5\n",
    "    \n",
    "    \n",
    "    "
   ]
  },
  {
   "cell_type": "code",
   "execution_count": null,
   "metadata": {
    "collapsed": false
   },
   "outputs": [],
   "source": [
    "V, dV = quadratic_lyapunov_function(grid, P)"
   ]
  },
  {
   "cell_type": "code",
   "execution_count": null,
   "metadata": {
    "collapsed": false
   },
   "outputs": [],
   "source": [
    "def find_max_levelset(S, V, accuracy):\n",
    "    \"\"\"\n",
    "    Find maximum level set of V in S.\n",
    "    \n",
    "    Parameters\n",
    "    ----------\n",
    "    S - boolean array\n",
    "        Elements are True if V_dot <= L tau\n",
    "    V - np.array\n",
    "        1d array with values of Lyapunov function.\n",
    "    \"\"\"\n",
    "    \n",
    "    def levelset_is_safe(c):\n",
    "        \"\"\"\n",
    "        Return true if V(c) is subset of S\n",
    "        \n",
    "        Parameters\n",
    "        ----------\n",
    "        c: float\n",
    "            The level set value\n",
    "            \n",
    "        Returns:\n",
    "        safe: boolean\n",
    "        \"\"\"\n",
    "        return np.all(S[V <= c])\n",
    "    \n",
    "    return line_search_bisection(levelset_is_safe,\n",
    "                                 [0, np.max(V)],\n",
    "                                 accuracy)\n",
    "        "
   ]
  },
  {
   "cell_type": "code",
   "execution_count": null,
   "metadata": {
    "collapsed": false
   },
   "outputs": [],
   "source": []
  },
  {
   "cell_type": "code",
   "execution_count": null,
   "metadata": {
    "collapsed": true
   },
   "outputs": [],
   "source": []
  }
 ],
 "metadata": {
  "kernelspec": {
   "display_name": "Python 2",
   "language": "python",
   "name": "python2"
  },
  "language_info": {
   "codemirror_mode": {
    "name": "ipython",
    "version": 2
   },
   "file_extension": ".py",
   "mimetype": "text/x-python",
   "name": "python",
   "nbconvert_exporter": "python",
   "pygments_lexer": "ipython2",
   "version": "2.7.11"
  }
 },
 "nbformat": 4,
 "nbformat_minor": 0
}
