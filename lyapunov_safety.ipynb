{
 "cells": [
  {
   "cell_type": "code",
   "execution_count": null,
   "metadata": {
    "collapsed": true
   },
   "outputs": [],
   "source": [
    "from __future__ import division, print_function\n",
    "\n",
    "import GPy\n",
    "import numpy as np\n",
    "import scipy as sp\n",
    "import matplotlib.pyplot as plt\n",
    "%matplotlib inline"
   ]
  },
  {
   "cell_type": "code",
   "execution_count": null,
   "metadata": {
    "collapsed": false
   },
   "outputs": [],
   "source": [
    "# parameter grid\n",
    "def combinations(arrays):\n",
    "    \"\"\"Return a single array with combinations of parameters\n",
    "    \n",
    "    Parameters\n",
    "    ----------\n",
    "    arrays - list of np.array\n",
    "    \n",
    "    Returns\n",
    "    -------\n",
    "    array - np.array\n",
    "        An array that contains all combinations of the input arrays\n",
    "    \"\"\"\n",
    "    return np.array(np.meshgrid(*arrays)).T.reshape(-1, len(arrays))"
   ]
  },
  {
   "cell_type": "code",
   "execution_count": null,
   "metadata": {
    "collapsed": false
   },
   "outputs": [],
   "source": [
    "def line_search_bisection(f, bound, accuracy):\n",
    "    \"\"\"Maximize c so that constraint fulfilled.\n",
    "    \n",
    "    Parameters\n",
    "    ----------\n",
    "    f - callable\n",
    "        A function that takes a scalar value and return True if\n",
    "        the constraint is fulfilled, False otherwise.\n",
    "    bound - list\n",
    "        Interval within which to search\n",
    "    accuracy - float\n",
    "        The interval up to which the algorithm shall search\n",
    "        \n",
    "    Returns\n",
    "    -------\n",
    "    c - float\n",
    "        The maximum value c so that the constraint is fulfilled    \n",
    "    \"\"\"\n",
    "    # Break if lower bound does not fulfill constraint\n",
    "    if not f(bound[0]):\n",
    "        return None\n",
    "    \n",
    "    if f(bound[1]):\n",
    "        return bound[1]\n",
    "    \n",
    "    while bound[1] - bound[0] > accuracy:\n",
    "        mean = (bound[0] + bound[1]) / 2\n",
    "        \n",
    "        if f(mean):\n",
    "            bound[0] = mean\n",
    "        else:\n",
    "            bound[1] = mean\n",
    "    \n",
    "    return bound[0]"
   ]
  },
  {
   "cell_type": "code",
   "execution_count": null,
   "metadata": {
    "collapsed": false
   },
   "outputs": [],
   "source": [
    "def lqr(A, B, Q, R):\n",
    "    \"\"\"\n",
    "    Compute the continuous time LQR-controller. \n",
    "    \n",
    "    Parameters\n",
    "    ----------\n",
    "    A - np.array\n",
    "    B - np.array\n",
    "    Q - np.array\n",
    "    R - np.array\n",
    "     \n",
    "    Returns\n",
    "    -------\n",
    "    K - np.array\n",
    "        Controller matrix\n",
    "    P - np.array\n",
    "        Cost to go matrix\n",
    "    \"\"\"\n",
    " \n",
    "    #first, try to solve the ricatti equation\n",
    "    P = sp.linalg.solve_continuous_are(A, B, Q, R)\n",
    "     \n",
    "    #compute the LQR gain\n",
    "    K = np.linalg.solve(R, B.T.dot(P))\n",
    "     \n",
    "    return K, P\n",
    "\n",
    "\n",
    "def quadratic_lyapunov_function(x, P):\n",
    "    \"\"\"\n",
    "    Compute V(x) for quadratic Lyapunov function\n",
    "    \n",
    "    V(x) = x.T P x\n",
    "    \n",
    "    Equivalent, but slower implementation:\n",
    "    np.array([ xi.dot(p.dot(xi.T)) for xi in x])\n",
    "    \n",
    "    Parameters\n",
    "    ----------\n",
    "    x - np.array\n",
    "        2d array that has a vector x on each row\n",
    "    P - np.array\n",
    "        2d cost matrix for lyapunov function\n",
    "\n",
    "    Returns\n",
    "    -------\n",
    "    V - np.array\n",
    "        1d array with V(x)\n",
    "    dV - np.array\n",
    "        2d array with dV(x)/dx on each row\n",
    "    \"\"\"\n",
    "    return np.sum(x.dot(P) * x, axis=1), x.dot(P)"
   ]
  },
  {
   "cell_type": "code",
   "execution_count": null,
   "metadata": {
    "collapsed": true
   },
   "outputs": [],
   "source": [
    "def get_safe_set(dV, gp_mean, gp_var, threshold, S0=None, beta=2.):\n",
    "    \"\"\"\n",
    "    Compute the safe set\n",
    "    \n",
    "    Parameters\n",
    "    ----------\n",
    "    grid - np.array\n",
    "        The states at which to compute the safe set\n",
    "    dV - np.array\n",
    "        The derivatives of the Lyapunov function at grid points\n",
    "    gp_mean - np.array\n",
    "        gp mean of the dynamics (including prior dynamics as mean)\n",
    "    gp_var - np.array\n",
    "        gp var of the dynamics\n",
    "    threshold - float\n",
    "        The safety threshold, in the paper threshold = tau * L\n",
    "    S0 - np.array\n",
    "        The deterministic safe set\n",
    "    beta - float\n",
    "        The confidence interval for the GP-prediction\n",
    "    \"\"\"    \n",
    "    # V_dot_mean = dV * mu\n",
    "    # V_dot_var = sum_i(|dV_i| * var_i)\n",
    "    V_dot = np.sum(dV * gp_mean, axis=1) + beta * np.sqrt(np.sum(np.abs(dV) * gp_var, axis=1)) \n",
    "    \n",
    "    if S0 is None:\n",
    "        return V_dot < threshold\n",
    "    else:\n",
    "        return np.logical_or(V_dot < threshold, S0)\n",
    "        \n",
    "def find_max_levelset(S, V, accuracy, interval=None):\n",
    "    \"\"\"\n",
    "    Find maximum level set of V in S.\n",
    "    \n",
    "    Parameters\n",
    "    ----------\n",
    "    S - boolean array\n",
    "        Elements are True if V_dot <= L tau\n",
    "    V - np.array\n",
    "        1d array with values of Lyapunov function.\n",
    "    accuracy - float\n",
    "        The accuracy up to which the level set is computed\n",
    "    interval - list\n",
    "        Interval within which the level set is search. Defaults\n",
    "        to [0, max(V) + accuracy]\n",
    "        \n",
    "    Returns\n",
    "    -------\n",
    "    c - float\n",
    "        The value of the maximum level set\n",
    "    \"\"\"\n",
    "    \n",
    "    def levelset_is_safe(c):\n",
    "        \"\"\"\n",
    "        Return true if V(c) is subset of S\n",
    "        \n",
    "        Parameters\n",
    "        ----------\n",
    "        c: float\n",
    "            The level set value\n",
    "            \n",
    "        Returns:\n",
    "        safe: boolean\n",
    "        \"\"\"\n",
    "        return np.all(S[V <= c])\n",
    "    \n",
    "    if interval is None:\n",
    "        interval = [0, np.max(V) + accuracy]\n",
    "    return line_search_bisection(levelset_is_safe,\n",
    "                                 interval,\n",
    "                                 accuracy)\n",
    "        "
   ]
  },
  {
   "cell_type": "code",
   "execution_count": null,
   "metadata": {
    "collapsed": true
   },
   "outputs": [],
   "source": [
    "tau = 0.01\n",
    "\n",
    "# x_min, x_max, n_samples\n",
    "grid_param = [(-1, 1, tau),\n",
    "              (-1, 1, tau)]\n",
    "\n",
    "grid = combinations([np.arange(*x) for x in grid_param])"
   ]
  },
  {
   "cell_type": "code",
   "execution_count": null,
   "metadata": {
    "collapsed": false
   },
   "outputs": [],
   "source": [
    "n = 2\n",
    "m = 1\n",
    "\n",
    "A = np.array([[0, 1],\n",
    "              [0, 0]])\n",
    "\n",
    "B = np.array([[0],\n",
    "              [1]])\n",
    "\n",
    "Q = np.diag([1, 0.01])\n",
    "R = np.array([[0.1]])\n",
    "\n",
    "K, P = lqr(A, B, Q, R)\n",
    "\n",
    "def control_law(x):\n",
    "    return -x.dot(K.T)\n",
    "\n",
    "def true_dynamics(x):\n",
    "    x = np.asarray(x)\n",
    "    u = control_law(x)\n",
    "    np.clip(u, -0.0001, 0.0001, out=u)\n",
    "    return x.dot(A.T) + u.dot(B.T)\n",
    "\n",
    "def prior_dynamics(x):\n",
    "    x = np.asarray(x)\n",
    "    u = control_law(x)\n",
    "    return x.dot(A.T) + u.dot(B.T)\n",
    "\n",
    "# Initial safe set\n",
    "S0 = np.linalg.norm(grid, axis=1) < 0.1\n",
    "\n",
    "if not np.any(S0):\n",
    "    print('No initial safe points!')\n",
    "    \n",
    "mf = GPy.core.Mapping(2, 2)\n",
    "mf.f = prior_dynamics\n",
    "mf.update_gradients = lambda a,b: None"
   ]
  },
  {
   "cell_type": "code",
   "execution_count": null,
   "metadata": {
    "collapsed": false
   },
   "outputs": [],
   "source": [
    "kernel = GPy.kern.RBF(input_dim=2, lengthscale=0.05, variance=1)\n",
    "likelihood = GPy.likelihoods.Gaussian(variance=0.00001**2)\n",
    "gp = GPy.core.GP(np.array([[0, 0]]), np.array([[0, 0]]), kernel, likelihood, mean_function=mf)\n",
    "\n",
    "L = 2 * gp.kern.variance / gp.kern.lengthscale"
   ]
  },
  {
   "cell_type": "code",
   "execution_count": null,
   "metadata": {
    "collapsed": false
   },
   "outputs": [],
   "source": [
    "V, dV = quadratic_lyapunov_function(grid, P)\n",
    "    \n",
    "def update_gp():\n",
    "    mu, var = gp._raw_predict(grid)\n",
    "    S = get_safe_set(dV, mu, var, L*tau, S0=S0, beta=2.)\n",
    "    c = find_max_levelset(S, V, 0.001)\n",
    "    S[:] = V <= c\n",
    "    max_id = np.argmax(var[S])\n",
    "    max_state = grid[S][max_id].copy()\n",
    "    gp.set_XY(np.vstack([gp.X, max_state]),\n",
    "              np.vstack([gp.Y, true_dynamics(max_state)]))\n",
    "    return S\n",
    "    "
   ]
  },
  {
   "cell_type": "code",
   "execution_count": null,
   "metadata": {
    "collapsed": false
   },
   "outputs": [],
   "source": [
    "S = np.sum(dV * true_dynamics(grid), axis=1) < L*tau\n",
    "c = find_max_levelset(S, V, 0.001)\n",
    "S[:] = V <= c\n",
    "plt.imshow(np.reshape(S, (200, 200)))"
   ]
  },
  {
   "cell_type": "code",
   "execution_count": null,
   "metadata": {
    "collapsed": false
   },
   "outputs": [],
   "source": [
    "for i in range(10):\n",
    "    update_gp()\n",
    "S = update_gp()\n",
    "print(np.count_nonzero(S))"
   ]
  },
  {
   "cell_type": "code",
   "execution_count": null,
   "metadata": {
    "collapsed": false
   },
   "outputs": [],
   "source": [
    "plt.imshow(np.reshape(S, (200, 200)))"
   ]
  },
  {
   "cell_type": "code",
   "execution_count": null,
   "metadata": {
    "collapsed": false
   },
   "outputs": [],
   "source": []
  }
 ],
 "metadata": {
  "kernelspec": {
   "display_name": "Python 2",
   "language": "python",
   "name": "python2"
  },
  "language_info": {
   "codemirror_mode": {
    "name": "ipython",
    "version": 2
   },
   "file_extension": ".py",
   "mimetype": "text/x-python",
   "name": "python",
   "nbconvert_exporter": "python",
   "pygments_lexer": "ipython2",
   "version": "2.7.11"
  }
 },
 "nbformat": 4,
 "nbformat_minor": 0
}
