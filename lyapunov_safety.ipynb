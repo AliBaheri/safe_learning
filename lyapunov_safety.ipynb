{
 "cells": [
  {
   "cell_type": "code",
   "execution_count": 288,
   "metadata": {
    "collapsed": false
   },
   "outputs": [],
   "source": [
    "from __future__ import division, print_function\n",
    "\n",
    "import GPy\n",
    "import numpy as np\n",
    "import math\n",
    "import matplotlib.pyplot as plt\n",
    "%matplotlib inline\n",
    "\n",
    "from utilities import *"
   ]
  },
  {
   "cell_type": "code",
   "execution_count": 289,
   "metadata": {
    "collapsed": false
   },
   "outputs": [
    {
     "name": "stdout",
     "output_type": "stream",
     "text": [
      "Grid size: 786000\n"
     ]
    }
   ],
   "source": [
    "tau = 0.002\n",
    "\n",
    "# x_min, x_max, accuracy\n",
    "grid_param = [(-math.radians(30), math.radians(30), tau),\n",
    "              (-1.5, 1.5, tau)]\n",
    "\n",
    "extent = np.array([grid_param[0][0], grid_param[0][1], grid_param[1][0], grid_param[1][1]])\n",
    "\n",
    "grid = [np.arange(*x) for x in grid_param]\n",
    "num_samples = [len(x) for x in grid]\n",
    "grid = combinations(grid)\n",
    "\n",
    "print('Grid size: {0}'.format(len(grid)))"
   ]
  },
  {
   "cell_type": "code",
   "execution_count": 367,
   "metadata": {
    "collapsed": false
   },
   "outputs": [],
   "source": [
    "n = 2\n",
    "m = 1\n",
    "\n",
    "mass = 0.1\n",
    "friction = 0.\n",
    "length = 0.5\n",
    "gravity = 9.81\n",
    "\n",
    "x_max = np.deg2rad(45)\n",
    "u_max = gravity * mass * length * np.sin(x_max)\n",
    "# u_max = np.deg2rad(45)\n",
    "# x_max = np.rad2deg(np.arcsin(u_max / (mass * gravity * length)))\n",
    "\n",
    "inertia = mass * length ** 2\n",
    "\n",
    "A = np.array([[0, 1],\n",
    "              [math.sqrt(gravity / length), -friction / inertia]])\n",
    "\n",
    "B = np.array([[0],\n",
    "              [1 / inertia]])\n",
    "\n",
    "Q = np.array([[1, 0], [0, 0]], dtype=np.float)\n",
    "R = np.array([[1]], dtype=np.float)\n",
    "\n",
    "# x_n = inv(Tx) * x\n",
    "Tx = np.diag([x_max, gravity / length * math.cos(x_max) * 0.1])\n",
    "Tu = np.array([[u_max]])\n",
    "\n",
    "Tx_inv = np.diag(np.diag(Tx)**(-1))\n",
    "Tu_inv = np.diag(np.diag(Tu)**(-1))\n",
    "\n",
    "Q = Tx_inv.T.dot(Q.dot(Tx_inv))\n",
    "R = Tu_inv.T.dot(R.dot(Tu_inv))\n",
    "\n",
    "Q *= np.array(1e-2, dtype=np.float)\n",
    "R *= np.array(1e-2, dtype=np.float)\n",
    "\n",
    "\n",
    "def ode(x, u):\n",
    "    return np.hstack([x[:, [1]],\n",
    "                      gravity / length * np.sin(x[:, [0]]) + u / inertia - friction / inertia * x[:, [1]]])\n",
    "\n",
    "K, P = lqr(A, B, Q, R)\n",
    "\n",
    "def control_law(x):\n",
    "    u = -x.dot(K.T)\n",
    "    u = np.clip(u, -0.2, 0.2)\n",
    "    return u\n",
    "\n",
    "def true_dynamics(x):\n",
    "    x = np.asarray(x)\n",
    "    u = control_law(x)\n",
    "    return ode(x, u)\n",
    "\n",
    "def prior_dynamics(x):\n",
    "    x = np.asarray(x)\n",
    "    u = control_law(x)\n",
    "    return x.dot(A.T) + u.dot(B.T)\n",
    "\n",
    "# Initial safe set\n",
    "S0 = np.logical_and(np.abs(grid[:, 0]) < np.deg2rad(15),\n",
    "                    np.abs(grid[:, 1]) < np.deg2rad(30))\n",
    "\n",
    "if not np.any(S0):\n",
    "    print('No initial safe points!')"
   ]
  },
  {
   "cell_type": "code",
   "execution_count": 369,
   "metadata": {
    "collapsed": false
   },
   "outputs": [
    {
     "data": {
      "text/plain": [
       "1.5887591629344071"
      ]
     },
     "execution_count": 369,
     "metadata": {},
     "output_type": "execute_result"
    }
   ],
   "source": [
    "np.sqrt(np.sum(extent[1:3]**2))"
   ]
  },
  {
   "cell_type": "markdown",
   "metadata": {},
   "source": [
    "#### Kernel definition\n",
    "\n",
    "The inverted pendulum model is of the form\n",
    "\\begin{equation}\n",
    "\\ddot{\\theta} = \\frac{mgl \\sin(\\theta) + \\tau}{m l^2}\n",
    "\\end{equation}\n",
    "\n",
    "or, with the state vector $\\mathbf{x} = [\\mathbf{x}_1, \\mathbf{x}_2] = [\\theta, \\dot{\\theta}]$, the dynamics are\n",
    "\\begin{equation}\n",
    "\\dot{\\mathbf{x}} =\n",
    "\\left[\n",
    "\\begin{matrix}\n",
    "\\mathbf{x}_2 \\\\\n",
    "\\frac{mgl \\sin(\\mathbf{x}_1) + \\tau}{m l^2}\n",
    "\\end{matrix} \\right]\n",
    "\\end{equation}\n",
    "\n",
    "The first part of this equation says that the angle is equal to the integrated angular velocity. This is a intuitively true, irrespective of model errors. As such, we only train a model on the second part of the dynamics. That is\n",
    "\\begin{equation}\n",
    "\\dot{\\mathbf{x}} =\n",
    "\\left[\n",
    "\\begin{matrix}\n",
    "\\mathbf{x}_2 \\\\\n",
    "\\frac{mgl \\sin(\\mathbf{x}_1) + \\tau}{m l^2} + g_\\pi(\\mathbf{x})\n",
    "\\end{matrix} \\right]\n",
    "\\end{equation}\n"
   ]
  },
  {
   "cell_type": "code",
   "execution_count": 370,
   "metadata": {
    "collapsed": false
   },
   "outputs": [],
   "source": [
    "mf = GPy.core.Mapping(2, 1)\n",
    "mf.f = lambda x: prior_dynamics(x)[:, [1]]\n",
    "mf.update_gradients = lambda a,b: None\n",
    "\n",
    "x_lin_max = np.max(np.abs(prior_dynamics(grid) - true_dynamics(grid)))\n",
    "kernel = (GPy.kern.RBF(input_dim=2, lengthscale=0.5, variance=40**2, ARD=True, name='rbf') *\n",
    "          GPy.kern.Linear(input_dim=2, name='linear', variances=1/x_lin_max))\n",
    "likelihood = GPy.likelihoods.Gaussian(variance=0.01**2)\n",
    "gp = GPy.core.GP(np.array([[0, 0]]), np.array([[0]]), kernel, likelihood, mean_function=mf)\n",
    "\n",
    "def predict_model(gp, x):\n",
    "    gp_mean, gp_var = gp._raw_predict(x)\n",
    "    gp_mean = np.hstack([x[:, [1]], gp_mean])\n",
    "    gp_var = np.hstack([np.zeros_like(gp_var), gp_var])\n",
    "    return gp_mean, gp_var\n",
    "\n",
    "L = 0"
   ]
  },
  {
   "cell_type": "code",
   "execution_count": 371,
   "metadata": {
    "collapsed": false
   },
   "outputs": [],
   "source": [
    "# Lyapunov function:\n",
    "V, dV = quadratic_lyapunov_function(grid, P)\n",
    "V_max = np.max(V)\n",
    "accuracy = V_max / 1e10\n",
    "\n",
    "# Lipschitz constants of Lyapunov function\n",
    "B_dV = L_V = np.max(np.abs(dV), axis=1)\n",
    "\n",
    "kernel_lengthscale = np.min(gp.kern.rbf.lengthscale).squeeze().tolist()\n",
    "kernel_var = gp.kern.rbf.variance.values.squeeze().tolist()\n",
    "\n",
    "# Dynamics Lipschitz constants\n",
    "L_g = np.sqrt(kernel_var) / kernel_lengthscale * gp.kern.linear.Kdiag(grid)\n",
    "L_f = max(np.max(A), np.max(B))\n",
    "\n",
    "# Function bounds\n",
    "B_g = np.sqrt(kernel_var) * gp.kern.linear.Kdiag(grid)\n",
    "# B_f = np.max(prior_dynamics(grid))\n",
    "B_f = prior_dynamics(grid)[:, 1]\n",
    "\n",
    "B_true = np.max(true_dynamics(grid), axis=1)\n",
    "\n",
    "L = (B_g + B_f) * L_V + B_dV * (L_g + L_f)\n",
    "L_true = B_true * L_V + B_dV * L_f"
   ]
  },
  {
   "cell_type": "code",
   "execution_count": 372,
   "metadata": {
    "collapsed": false
   },
   "outputs": [
    {
     "data": {
      "text/plain": [
       "(786000, 2)"
      ]
     },
     "execution_count": 372,
     "metadata": {},
     "output_type": "execute_result"
    }
   ],
   "source": [
    "dV.shape"
   ]
  },
  {
   "cell_type": "code",
   "execution_count": 373,
   "metadata": {
    "collapsed": false
   },
   "outputs": [
    {
     "data": {
      "text/plain": [
       "0.87807495587817797"
      ]
     },
     "execution_count": 373,
     "metadata": {},
     "output_type": "execute_result"
    }
   ],
   "source": [
    "np.max(L)"
   ]
  },
  {
   "cell_type": "code",
   "execution_count": 374,
   "metadata": {
    "collapsed": false
   },
   "outputs": [
    {
     "name": "stdout",
     "output_type": "stream",
     "text": [
      "[ 0.87807496  0.87669081  0.87530887 ...,  0.75685093  0.75817562\n",
      "  0.75950251] [ 0.39255706  0.3923963   0.39223551 ...,  0.42487208  0.4250687\n",
      "  0.42526533]\n"
     ]
    },
    {
     "data": {
      "text/plain": [
       "<matplotlib.image.AxesImage at 0x7fc4dacaea50>"
      ]
     },
     "execution_count": 374,
     "metadata": {},
     "output_type": "execute_result"
    },
    {
     "data": {
      "image/png": "[encoded data removed]",
      "text/plain": [
       "<matplotlib.figure.Figure at 0x7fc4dba6bad0>"
      ]
     },
     "metadata": {},
     "output_type": "display_data"
    }
   ],
   "source": [
    "print(L, L_true)\n",
    "plt.imshow(np.reshape(L, num_samples).T, extent=extent, origin='lower', alpha=0.3, cmap='viridis')"
   ]
  },
  {
   "cell_type": "markdown",
   "metadata": {},
   "source": [
    "## True safe levelset"
   ]
  },
  {
   "cell_type": "code",
   "execution_count": 375,
   "metadata": {
    "collapsed": false
   },
   "outputs": [
    {
     "data": {
      "image/png": "[encoded data removed]",
      "text/plain": [
       "<matplotlib.figure.Figure at 0x7fc4db881dd0>"
      ]
     },
     "metadata": {},
     "output_type": "display_data"
    },
    {
     "name": "stdout",
     "output_type": "stream",
     "text": [
      "Number of safe points: 572174/786000\n"
     ]
    }
   ],
   "source": [
    "V_dot_true = compute_v_dot(dV, true_dynamics(grid))\n",
    "\n",
    "fig, axes = plt.subplots(1, 2, figsize=(10, 20))\n",
    "\n",
    "S = get_safe_set(V_dot_true, 0, S0=None)\n",
    "axes[0].imshow(np.reshape(S, num_samples).T, extent=extent, origin='lower')\n",
    "c = find_max_levelset(S, V, accuracy)\n",
    "axes[0].imshow(np.reshape(V <= c, num_samples).T, extent=extent, origin='lower', alpha=0.3, cmap='viridis')\n",
    "axes[0].set_title('True safe set (V_dot < 0) and max level set')\n",
    "\n",
    "S2 = get_safe_set(V_dot_true, -L*tau, S0=S0)\n",
    "c = find_max_levelset(S2, V, accuracy)\n",
    "axes[1].imshow(np.reshape(S2, num_samples).T, extent=extent, origin='lower')\n",
    "axes[1].set_title('Approximated safe set (V_dot < -L*tau)\\n and max levelset')\n",
    "axes[1].imshow(np.reshape(V < c, num_samples).T, extent=extent, origin='lower', alpha=0.3, cmap='viridis')\n",
    "plt.show()\n",
    "\n",
    "print('Number of safe points: {0}/{1}'.format(np.count_nonzero(S), grid.shape[0]))"
   ]
  },
  {
   "cell_type": "markdown",
   "metadata": {},
   "source": [
    "## Online learning"
   ]
  },
  {
   "cell_type": "code",
   "execution_count": 376,
   "metadata": {
    "collapsed": true
   },
   "outputs": [],
   "source": [
    "V, dV = quadratic_lyapunov_function(grid, P)\n",
    "    \n",
    "def update_gp():\n",
    "    dynamics_mean, dynamics_var = predict_model(gp, grid)\n",
    "    V_dot = compute_v_dot(dV, dynamics_mean, dynamics_var, beta=2.)\n",
    "    S = get_safe_set(V_dot, -L*tau, S0=S0)\n",
    "    c = find_max_levelset(S, V, accuracy)\n",
    "    S[:] = V <= c\n",
    "    max_id = np.argmax(dynamics_var[S, 1])\n",
    "    max_state = grid[S][[max_id], :].copy()\n",
    "    gp.set_XY(np.vstack([gp.X, max_state]),\n",
    "              np.vstack([gp.Y, true_dynamics(max_state)[:, [1]]]))\n",
    "    return S"
   ]
  },
  {
   "cell_type": "code",
   "execution_count": 388,
   "metadata": {
    "collapsed": false
   },
   "outputs": [
    {
     "name": "stdout",
     "output_type": "stream",
     "text": [
      "243505\n"
     ]
    }
   ],
   "source": [
    "for i in range(10):\n",
    "    update_gp()\n",
    "S = update_gp()\n",
    "print(np.count_nonzero(S))"
   ]
  },
  {
   "cell_type": "code",
   "execution_count": 389,
   "metadata": {
    "collapsed": false
   },
   "outputs": [
    {
     "data": {
      "text/plain": [
       "[<matplotlib.lines.Line2D at 0x7fc4d9bb9950>]"
      ]
     },
     "execution_count": 389,
     "metadata": {},
     "output_type": "execute_result"
    },
    {
     "data": {
      "image/png": "[encoded data removed]",
      "text/plain": [
       "<matplotlib.figure.Figure at 0x7fc4ead3cb90>"
      ]
     },
     "metadata": {},
     "output_type": "display_data"
    }
   ],
   "source": [
    "fig = plt.figure(figsize=(10, 10))\n",
    "c = plt.imshow(np.reshape(S, num_samples).T, extent=extent, origin='lower')\n",
    "# c = plt.imshow(np.reshape(V_dot, num_samples).T < 0, extent=extent, origin='lower', cmap='viridis')\n",
    "# plt.colorbar(c)\n",
    "plt.plot(gp.X[:, 0], gp.X[:, 1], 'x')"
   ]
  },
  {
   "cell_type": "code",
   "execution_count": 379,
   "metadata": {
    "collapsed": false
   },
   "outputs": [
    {
     "data": {
      "text/plain": [
       "<matplotlib.colorbar.Colorbar at 0x7fc4d9f8b950>"
      ]
     },
     "execution_count": 379,
     "metadata": {},
     "output_type": "execute_result"
    },
    {
     "data": {
      "image/png": "[encoded data removed]",
      "text/plain": [
       "<matplotlib.figure.Figure at 0x7fc4da774390>"
      ]
     },
     "metadata": {},
     "output_type": "display_data"
    }
   ],
   "source": [
    "error = np.abs(true_dynamics(grid)[:, 1] - prior_dynamics(grid)[:, 1])\n",
    "c = plt.imshow(np.reshape(error, num_samples).T, extent=extent, origin='lower', cmap='viridis')\n",
    "plt.colorbar(c)"
   ]
  },
  {
   "cell_type": "code",
   "execution_count": 380,
   "metadata": {
    "collapsed": false
   },
   "outputs": [],
   "source": [
    "gp.set_XY(np.array([[0, 0]]),\n",
    "          np.array([[0]]))\n",
    "\n",
    "mean, var = gp._raw_predict(grid)"
   ]
  },
  {
   "cell_type": "code",
   "execution_count": 381,
   "metadata": {
    "collapsed": false
   },
   "outputs": [
    {
     "data": {
      "text/plain": [
       "<matplotlib.colorbar.Colorbar at 0x7fc4d9cee150>"
      ]
     },
     "execution_count": 381,
     "metadata": {},
     "output_type": "execute_result"
    },
    {
     "data": {
      "image/png": "[encoded data removed]",
      "text/plain": [
       "<matplotlib.figure.Figure at 0x7fc4dae70b10>"
      ]
     },
     "metadata": {},
     "output_type": "display_data"
    }
   ],
   "source": [
    "c = plt.imshow(np.reshape(np.sqrt(var), num_samples).T, extent=extent, origin='lower', cmap='viridis')\n",
    "plt.colorbar(c)"
   ]
  },
  {
   "cell_type": "code",
   "execution_count": 382,
   "metadata": {
    "collapsed": false
   },
   "outputs": [
    {
     "data": {
      "text/html": [
       "<style type=\"text/css\">\n",
       ".tg  {font-family:\"Courier New\", Courier, monospace !important;padding:2px 3px;word-break:normal;border-collapse:collapse;border-spacing:0;border-color:#DCDCDC;margin:0px auto;width:100%;}\n",
       ".tg td{font-family:\"Courier New\", Courier, monospace !important;font-weight:bold;color:#444;background-color:#F7FDFA;border-style:solid;border-width:1px;overflow:hidden;word-break:normal;border-color:#DCDCDC;}\n",
       ".tg th{font-family:\"Courier New\", Courier, monospace !important;font-weight:normal;color:#fff;background-color:#26ADE4;border-style:solid;border-width:1px;overflow:hidden;word-break:normal;border-color:#DCDCDC;}\n",
       ".tg .tg-left{font-family:\"Courier New\", Courier, monospace !important;font-weight:normal;text-align:left;}\n",
       ".tg .tg-right{font-family:\"Courier New\", Courier, monospace !important;font-weight:normal;text-align:right;}\n",
       "</style>\n",
       "<table class=\"tg\">\n",
       "<tr>\n",
       "  <th><b>linear.</b></th>\n",
       "  <th><b>Value</b></th>\n",
       "  <th><b>Constraint</b></th>\n",
       "  <th><b>Prior</b></th>\n",
       "  <th><b>Tied to</b></th>\n",
       "</tr>\n",
       "<tr><td class=tg-left>variances</td><td class=tg-right>0.133498034003</td><td class=tg-left>   +ve    </td><td class=tg-left>     </td><td class=tg-left>       </td></tr>\n",
       "</table>"
      ],
      "text/plain": [
       "<GPy.kern._src.linear.Linear at 0x7fc4dba76090>"
      ]
     },
     "execution_count": 382,
     "metadata": {},
     "output_type": "execute_result"
    }
   ],
   "source": [
    "gp.kern.linear"
   ]
  },
  {
   "cell_type": "code",
   "execution_count": 383,
   "metadata": {
    "collapsed": false
   },
   "outputs": [],
   "source": [
    "kern = GPy.kern.Poly(2)"
   ]
  },
  {
   "cell_type": "code",
   "execution_count": 384,
   "metadata": {
    "collapsed": false
   },
   "outputs": [
    {
     "data": {
      "image/png": "[encoded data removed]",
      "text/plain": [
       "<matplotlib.figure.Figure at 0x7fc4da41e150>"
      ]
     },
     "metadata": {},
     "output_type": "display_data"
    }
   ],
   "source": [
    "kern.plot()"
   ]
  },
  {
   "cell_type": "code",
   "execution_count": null,
   "metadata": {
    "collapsed": false
   },
   "outputs": [],
   "source": []
  },
  {
   "cell_type": "code",
   "execution_count": null,
   "metadata": {
    "collapsed": true
   },
   "outputs": [],
   "source": []
  }
 ],
 "metadata": {
  "kernelspec": {
   "display_name": "Python 2",
   "language": "python",
   "name": "python2"
  },
  "language_info": {
   "codemirror_mode": {
    "name": "ipython",
    "version": 2
   },
   "file_extension": ".py",
   "mimetype": "text/x-python",
   "name": "python",
   "nbconvert_exporter": "python",
   "pygments_lexer": "ipython2",
   "version": "2.7.11"
  }
 },
 "nbformat": 4,
 "nbformat_minor": 0
}
