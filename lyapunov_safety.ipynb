{
 "cells": [
  {
   "cell_type": "code",
   "execution_count": null,
   "metadata": {
    "collapsed": false
   },
   "outputs": [],
   "source": [
    "from __future__ import division, print_function\n",
    "\n",
    "import GPy\n",
    "import numpy as np\n",
    "import scipy as sp\n",
    "import math\n",
    "import matplotlib.pyplot as plt\n",
    "%matplotlib inline\n",
    "\n",
    "from utilities import *"
   ]
  },
  {
   "cell_type": "code",
   "execution_count": null,
   "metadata": {
    "collapsed": false
   },
   "outputs": [],
   "source": [
    "tau = 0.005\n",
    "\n",
    "# x_min, x_max, accuracy\n",
    "grid_param = [(-math.radians(45), math.radians(45), tau),\n",
    "              (-2, 2, tau)]\n",
    "\n",
    "extent = np.array([grid_param[0][0], grid_param[0][1], grid_param[1][0], grid_param[1][1]])\n",
    "\n",
    "grid = [np.arange(*x) for x in grid_param]\n",
    "num_samples = [len(x) for x in grid]\n",
    "grid = combinations(grid)\n",
    "\n",
    "print('Grid size: {0}'.format(len(grid)))"
   ]
  },
  {
   "cell_type": "code",
   "execution_count": null,
   "metadata": {
    "collapsed": false
   },
   "outputs": [],
   "source": [
    "n = 2\n",
    "m = 1\n",
    "\n",
    "mass = 0.1\n",
    "friction = 0.\n",
    "length = 0.5\n",
    "gravity = 9.81\n",
    "\n",
    "x_max = np.deg2rad(45)\n",
    "u_max = gravity * mass * length * np.sin(x_max)\n",
    "# u_max = np.deg2rad(45)\n",
    "# x_max = np.rad2deg(np.arcsin(u_max / (mass * gravity * length)))\n",
    "\n",
    "inertia = mass * length ** 2\n",
    "\n",
    "A = np.array([[0, 1],\n",
    "              [math.sqrt(gravity / length), -friction / inertia]])\n",
    "\n",
    "B = np.array([[0],\n",
    "              [1 / inertia]])\n",
    "\n",
    "Q = np.array([[1, 0], [0, 1]], dtype=np.float)\n",
    "R = np.array([[1]], dtype=np.float)\n",
    "\n",
    "# x_n = inv(Tx) * x\n",
    "Tx = np.diag([x_max, gravity / length * math.cos(x_max) * 0.1])\n",
    "Tu = np.array([[u_max]])\n",
    "\n",
    "Tx_inv = np.diag(np.diag(Tx)**(-1))\n",
    "Tu_inv = np.diag(np.diag(Tu)**(-1))\n",
    "\n",
    "Q = Tx_inv.T.dot(Q.dot(Tx_inv))\n",
    "R = Tu_inv.T.dot(R.dot(Tu_inv))\n",
    "\n",
    "# Q *= np.array(1e-3, dtype=np.float)\n",
    "# R *= np.array(1e-3, dtype=np.float)\n",
    "\n",
    "\n",
    "def ode(x, u):\n",
    "    return np.hstack([x[:, [1]],\n",
    "                      gravity / length * np.sin(x[:, [0]]) + u / inertia - friction / inertia * x[:, [1]]])\n",
    "\n",
    "K, P = lqr(A, B, Q, R)\n",
    "\n",
    "def control_law(x):\n",
    "    return -x.dot(K.T)\n",
    "\n",
    "def true_dynamics(x):\n",
    "    x = np.asarray(x)\n",
    "    u = control_law(x)\n",
    "    u = np.clip(u, -0.2, 0.2)\n",
    "    return ode(x, u)\n",
    "\n",
    "def prior_dynamics(x):\n",
    "    x = np.asarray(x)\n",
    "    u = control_law(x)\n",
    "    return x.dot(A.T) + u.dot(B.T)\n",
    "\n",
    "# Initial safe set\n",
    "S0 = np.logical_and(np.abs(grid[:, 0]) < np.deg2rad(5), True)\n",
    "\n",
    "if not np.any(S0):\n",
    "    print('No initial safe points!')"
   ]
  },
  {
   "cell_type": "code",
   "execution_count": null,
   "metadata": {
    "collapsed": false
   },
   "outputs": [],
   "source": [
    "np.max(np.abs(prior_dynamics(grid) - true_dynamics(grid)))"
   ]
  },
  {
   "cell_type": "markdown",
   "metadata": {},
   "source": [
    "#### Kernel definition\n",
    "\n",
    "The inverted pendulum model is of the form\n",
    "\\begin{equation}\n",
    "\\ddot{\\theta} = \\frac{mgl \\sin(\\theta) + \\tau}{m l^2}\n",
    "\\end{equation}\n",
    "\n",
    "or, with the state vector $\\mathbf{x} = [\\mathbf{x}_1, \\mathbf{x}_2] = [\\theta, \\dot{\\theta}]$, the dynamics are\n",
    "\\begin{equation}\n",
    "\\dot{\\mathbf{x}} =\n",
    "\\left[\n",
    "\\begin{matrix}\n",
    "\\mathbf{x}_2 \\\\\n",
    "\\frac{mgl \\sin(\\mathbf{x}_1) + \\tau}{m l^2}\n",
    "\\end{matrix} \\right]\n",
    "\\end{equation}\n",
    "\n",
    "The first part of this equation says that the angle is equal to the integrated angular velocity. This is a intuitively true, irrespective of model errors. As such, we only train a model on the second part of the dynamics. That is\n",
    "\\begin{equation}\n",
    "\\dot{\\mathbf{x}} =\n",
    "\\left[\n",
    "\\begin{matrix}\n",
    "\\mathbf{x}_2 \\\\\n",
    "\\frac{mgl \\sin(\\mathbf{x}_1) + \\tau}{m l^2} + g_\\pi(\\mathbf{x})\n",
    "\\end{matrix} \\right]\n",
    "\\end{equation}\n"
   ]
  },
  {
   "cell_type": "code",
   "execution_count": null,
   "metadata": {
    "collapsed": false
   },
   "outputs": [],
   "source": [
    "mf = GPy.core.Mapping(2, 1)\n",
    "mf.f = lambda x: prior_dynamics(x)[:, [1]]\n",
    "mf.update_gradients = lambda a,b: None\n",
    "\n",
    "kernel = GPy.kern.RBF(input_dim=2, lengthscale=0.5, variance=20**2, ARD=True)\n",
    "likelihood = GPy.likelihoods.Gaussian(variance=0.01**2)\n",
    "gp = GPy.core.GP(np.array([[0, 0]]), np.array([[0]]), kernel, likelihood, mean_function=mf)\n",
    "\n",
    "def predict_model(gp, x):\n",
    "    gp_mean, gp_var = gp._raw_predict(x)\n",
    "    gp_mean = np.hstack([x[:, [1]], gp_mean])\n",
    "    gp_var = np.hstack([np.zeros_like(gp_var), gp_var])\n",
    "    return gp_mean, gp_var"
   ]
  },
  {
   "cell_type": "code",
   "execution_count": null,
   "metadata": {
    "collapsed": false
   },
   "outputs": [],
   "source": [
    "# Lyapunov function:\n",
    "V, dV = quadratic_lyapunov_function(grid, P)\n",
    "V_max = np.max(V)\n",
    "accuracy = V_max / 1e10\n",
    "\n",
    "# Lipschitz constants of Lyapunov function\n",
    "L_dV = np.max(P)\n",
    "L_V = np.max(dV)\n",
    "\n",
    "kernel_lengthscale = np.min(gp.kern.lengthscale).squeeze().tolist()\n",
    "kernel_var = gp.kern.variance.values.squeeze().tolist()\n",
    "\n",
    "# Dynamics Lipschitz constants\n",
    "L_g = np.sqrt(kernel_var) / kernel_lengthscale\n",
    "L_f = max(np.max(A), np.max(B))\n",
    "\n",
    "# Function bounds\n",
    "B_g = np.sqrt(kernel_var)\n",
    "B_f = np.max(prior_dynamics(grid))\n",
    "\n",
    "B_true = np.max(true_dynamics(grid))\n",
    "\n",
    "L = (B_g + B_f) * L_V + L_dV * (L_g + L_f)\n",
    "L_true = B_true * L_V + L_dV * L_f"
   ]
  },
  {
   "cell_type": "code",
   "execution_count": null,
   "metadata": {
    "collapsed": false
   },
   "outputs": [],
   "source": [
    "print(L, L_true)\n",
    "L = 10"
   ]
  },
  {
   "cell_type": "markdown",
   "metadata": {},
   "source": [
    "## True safe levelset"
   ]
  },
  {
   "cell_type": "code",
   "execution_count": null,
   "metadata": {
    "collapsed": false
   },
   "outputs": [],
   "source": [
    "V_dot_true = compute_v_dot(dV, true_dynamics(grid))\n",
    "S = get_safe_set(V_dot_true, -L*tau, S0=None)\n",
    "\n",
    "if np.all(S):\n",
    "    print('All points safe')\n",
    "elif not np.any(S):\n",
    "    print('All points unsafe')\n",
    "\n",
    "c = find_max_levelset(np.logical_or(S, S0), V, accuracy)\n",
    "# S[:] = V <= c\n",
    "plt.imshow(np.reshape(S, num_samples).T, extent=extent, origin='lower')\n",
    "plt.show()\n",
    "\n",
    "c = plt.imshow(np.reshape(V_dot_true < L*tau, num_samples).T, extent=extent, origin='lower')\n",
    "plt.colorbar(c)\n",
    "plt.show()\n",
    "\n",
    "print('Number of safe points: {0}/{1}'.format(np.count_nonzero(S), grid.shape[0]))"
   ]
  },
  {
   "cell_type": "markdown",
   "metadata": {},
   "source": [
    "## Online learning"
   ]
  },
  {
   "cell_type": "code",
   "execution_count": null,
   "metadata": {
    "collapsed": true
   },
   "outputs": [],
   "source": [
    "V, dV = quadratic_lyapunov_function(grid, P)\n",
    "    \n",
    "def update_gp():\n",
    "    dynamics_mean, dynamics_var = predict_model(gp, grid)\n",
    "    V_dot = compute_v_dot(dV, dynamics_mean, dynamics_var, beta=2.)\n",
    "    S = get_safe_set(V_dot, L*tau, S0=S0)\n",
    "    c = find_max_levelset(S, V, accuracy)\n",
    "    S[:] = V <= c\n",
    "    max_id = np.argmax(dynamics_var[S, 1])\n",
    "    max_state = grid[S][[max_id], :].copy()\n",
    "    gp.set_XY(np.vstack([gp.X, max_state]),\n",
    "              np.vstack([gp.Y, true_dynamics(max_state)[:, [1]]]))\n",
    "    return S"
   ]
  },
  {
   "cell_type": "code",
   "execution_count": null,
   "metadata": {
    "collapsed": false
   },
   "outputs": [],
   "source": [
    "for i in range(10):\n",
    "    update_gp()\n",
    "S = update_gp()\n",
    "print(np.count_nonzero(S))"
   ]
  },
  {
   "cell_type": "code",
   "execution_count": null,
   "metadata": {
    "collapsed": false
   },
   "outputs": [],
   "source": [
    "fig = plt.figure(figsize=(10, 10))\n",
    "c = plt.imshow(np.reshape(S, num_samples).T, extent=extent, origin='lower')\n",
    "# c = plt.imshow(np.reshape(V_dot, num_samples).T < 0, extent=extent, origin='lower', cmap='viridis')\n",
    "# plt.colorbar(c)\n",
    "plt.plot(gp.X[:, 0], gp.X[:, 1], 'x')"
   ]
  },
  {
   "cell_type": "code",
   "execution_count": null,
   "metadata": {
    "collapsed": false
   },
   "outputs": [],
   "source": [
    "error = np.abs(true_dynamics(grid)[:, 1] - prior_dynamics(grid)[:, 1])\n",
    "c = plt.imshow(np.reshape(error, num_samples).T, extent=extent, origin='lower', cmap='viridis')\n",
    "plt.colorbar(c)"
   ]
  },
  {
   "cell_type": "code",
   "execution_count": null,
   "metadata": {
    "collapsed": true
   },
   "outputs": [],
   "source": []
  }
 ],
 "metadata": {
  "kernelspec": {
   "display_name": "Python 2",
   "language": "python",
   "name": "python2"
  },
  "language_info": {
   "codemirror_mode": {
    "name": "ipython",
    "version": 2
   },
   "file_extension": ".py",
   "mimetype": "text/x-python",
   "name": "python",
   "nbconvert_exporter": "python",
   "pygments_lexer": "ipython2",
   "version": "2.7.11"
  }
 },
 "nbformat": 4,
 "nbformat_minor": 0
}
