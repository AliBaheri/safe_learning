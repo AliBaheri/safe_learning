{
 "cells": [
  {
   "cell_type": "code",
   "execution_count": null,
   "metadata": {
    "collapsed": true
   },
   "outputs": [],
   "source": [
    "from __future__ import division, print_function\n",
    "\n",
    "import GPy\n",
    "import numpy as np\n",
    "import matplotlib.pyplot as plt\n",
    "%matplotlib inline\n",
    "\n",
    "from utilities import *"
   ]
  },
  {
   "cell_type": "markdown",
   "metadata": {},
   "source": [
    "We start by defining a discretization of the space $[-1, 1]$ with discretization constant $\\tau$"
   ]
  },
  {
   "cell_type": "code",
   "execution_count": null,
   "metadata": {
    "collapsed": false
   },
   "outputs": [],
   "source": [
    "# Discretization constant\n",
    "tau = 0.005\n",
    "\n",
    "# x_min, x_max, discretization\n",
    "grid_param = [-1, 1, tau]\n",
    "\n",
    "extent = np.array(grid_param[:2])\n",
    "\n",
    "# Create a grid\n",
    "grid = np.arange(*grid_param)[:, None]\n",
    "num_samples = len(grid)\n",
    "\n",
    "print('Grid size: {0}'.format(len(grid)))"
   ]
  },
  {
   "cell_type": "markdown",
   "metadata": {},
   "source": [
    "### Draw system dynamics from a GP\n",
    "\n",
    "We define a kernel, $k(x,x') = k_{\\mathrm{linear}}(x, x') * k_{\\mathrm{Matern}}(x, x')$, which models a nonlinear, 2-times differentiable function with linearly increasing amplitude. We draw a sample from this kernel in order to define the dynamics.\n",
    "\n",
    "The following plot shows the kind of functions that this kernel implies"
   ]
  },
  {
   "cell_type": "code",
   "execution_count": null,
   "metadata": {
    "collapsed": false
   },
   "outputs": [],
   "source": [
    "kernel = GPy.kern.Matern32(1, lengthscale=0.2, variance=0.2**2) * GPy.kern.Linear(1)\n",
    "\n",
    "for i in range(10):\n",
    "    f = sample_gp_function(kernel,\n",
    "                           [extent],\n",
    "                           num_samples=100,\n",
    "                           noise_var=0.1,\n",
    "                           interpolation='kernel')\n",
    "    plt.plot(grid, f(grid, noise=False))\n",
    "\n",
    "plt.ylabel('$f(x)$')\n",
    "plt.xlabel('x')\n",
    "plt.title('Samples drawn from the GP model of the dynamics')\n",
    "plt.show()"
   ]
  },
  {
   "cell_type": "markdown",
   "metadata": {},
   "source": [
    "We define the GP model using one particular sample of the GP, in addition to a stable, closed-loop, linear model.\n",
    "\n",
    "\\begin{equation}\n",
    "\\dot{x} = -0.25 x,\n",
    "\\end{equation}\n",
    "which is asymptotically stable. \n",
    "\n",
    "Sample of a GP model are Lipschitz continuous with high probability."
   ]
  },
  {
   "cell_type": "code",
   "execution_count": null,
   "metadata": {
    "collapsed": false
   },
   "outputs": [],
   "source": [
    "# Observation noise\n",
    "noise_var = 0.01 ** 2\n",
    "\n",
    "# Mean dynamics\n",
    "mf = GPy.core.Mapping(1, 1)\n",
    "mf.f = lambda x: -0.25 * x\n",
    "mf.update_gradients = lambda a, b: None\n",
    "\n",
    "# Define one sample as the true dynamics\n",
    "np.random.seed(5)\n",
    "true_dynamics = sample_gp_function(kernel,\n",
    "                                   [extent],\n",
    "                                   num_samples=100,\n",
    "                                   noise_var=noise_var,\n",
    "                                   interpolation='kernel',\n",
    "                                   mean_function=mf.f)\n",
    "\n",
    "gp = GPy.core.GP(np.array([[0]]), np.array([[0]]),\n",
    "                 kernel, GPy.likelihoods.Gaussian(variance=noise_var),\n",
    "                 mean_function=mf)\n",
    "\n",
    "gp.plot_f(plot_limits=extent)\n",
    "plt.plot(grid, true_dynamics(grid, noise=False), color='black', alpha=0.8)\n",
    "plt.title('GP model of the dynamics')\n",
    "plt.show()"
   ]
  },
  {
   "cell_type": "markdown",
   "metadata": {},
   "source": [
    "\n",
    "Additionally we define a random lyapunov function. For 1D this doesn't really matter. Here we pick\n",
    "\\begin{equation}\n",
    "V(x) = |x|\n",
    "\\end{equation}\n",
    "The previous GP model defines a model over $\\dot{V}(x) = \\frac{\\partial V(x)}{\\partial x} f(x)$. In the following, we only consider the 2-$\\sigma$ upper confidence bound of this model. Since the dynamics are Lipschitz continuous, $\\dot{V}$ is Lipschitz continuous as well.\n",
    "\n",
    "In particular, we use Lemma 5 to determine an appropriate Lipschitz constant."
   ]
  },
  {
   "cell_type": "code",
   "execution_count": null,
   "metadata": {
    "collapsed": false
   },
   "outputs": [],
   "source": [
    "def lyapunov(x):\n",
    "    \"\"\"\n",
    "    Return the Lyapunov function and its derivative.\n",
    "    \n",
    "    Parameters\n",
    "    ----------\n",
    "    x: np.array\n",
    "        The input data\n",
    "    \n",
    "    Returns\n",
    "    V: np.array\n",
    "        The function values, V(x)\n",
    "    dV: np.array\n",
    "        The derivatives, dV(x) / dx\n",
    "    \"\"\"\n",
    "    return np.abs(x).squeeze(), np.sign(grid, dtype=np.float)\n",
    "\n",
    "V, dV = lyapunov(grid)\n",
    "accuracy = np.max(V) / 1e10\n",
    "\n",
    "# Lipschitz constant\n",
    "L_dyn = 0.25 + 2 * np.sqrt(gp.kern.Mat32.variance) / gp.kern.Mat32.lengthscale * np.max(extent)\n",
    "B_dyn = (0.25 + np.sqrt(gp.kern.Mat32.variance)) * np.max(extent)\n",
    "L_V = np.max(dV)\n",
    "B_dV = np.max(dV)\n",
    "\n",
    "L = L_dyn * L_V + B_dV * L_dyn"
   ]
  },
  {
   "cell_type": "code",
   "execution_count": null,
   "metadata": {
    "collapsed": false
   },
   "outputs": [],
   "source": [
    "mean, var = gp._raw_predict(grid)\n",
    "V_dot = compute_v_dot(dV, mean, var, beta=2.)\n",
    "S = get_safe_set(V_dot, -L*tau)\n",
    "\n",
    "def plot_model(V_dot, S):\n",
    "    V_dot_unsafe = np.ma.masked_where(S, V_dot)\n",
    "    V_dot_safe = np.ma.masked_where(~S , V_dot)\n",
    "    \n",
    "    fig, axes = plt.subplots(2, 1, figsize=(10, 12))\n",
    "\n",
    "    # Plot dynamics\n",
    "    gp.plot_f(plot_limits=extent, ax=axes[0])\n",
    "    axes[0].plot(grid, true_dynamics(grid, noise=False), color='black', alpha=0.8)\n",
    "    axes[0].set_title('GP model of the dynamics')\n",
    "    axes[0].plot(gp.X, gp.Y, 'x', ms=8, mew=2)\n",
    "\n",
    "    # Plot V_dot\n",
    "    plt.xlim(extent)\n",
    "    unsafe_plot = plt.plot(grid, V_dot_unsafe, 'b', label=r'$\\dot{V}(x)$ (unsafe, $\\dot{V}(x) > L \\tau$)')\n",
    "    safe_plot = plt.plot(grid, V_dot_safe, 'r', label=r'$\\dot{V}(x)$ (safe, $\\dot{V}(x) \\leq L \\tau$)')\n",
    "    threshold = plt.plot(extent, [0, 0], 'k-.', label=r'Safety threshold ($L \\tau$ )')\n",
    "    axes[1].set_xlabel('$x$')\n",
    "    axes[1].set_ylabel(r'Upper bound of $\\dot{V}(x)$')\n",
    "    axes[1].set_title(r'Determining stability with $\\dot{V}(x)$')\n",
    "\n",
    "    ax2 = axes[1].twinx()\n",
    "    v_plot = ax2.plot(grid, V, color=(.3, .3, .3), label=r'$V(x)$')\n",
    "    ax2.set_ylabel(r'$V(x)$')\n",
    "\n",
    "    lns = safe_plot + unsafe_plot + v_plot + threshold\n",
    "    labels = [x.get_label() for x in lns]\n",
    "    plt.legend(lns, labels, loc=4, fancybox=True, framealpha=0.75)\n",
    "    plt.show()\n",
    "\n",
    "plot_model(V_dot, S)"
   ]
  },
  {
   "cell_type": "markdown",
   "metadata": {},
   "source": [
    "Clearly the model does not allow us to classify any states as safe ($\\dot{V} < -L \\tau$). However, as a starting point, we assume that we know that the system is asymptotially stable within some initial set, $\\mathcal{S}_0$:\n",
    "\\begin{equation}\n",
    "\\mathcal{S}_0 = \\{ x \\in \\mathbb{R} \\,|\\, |x| < 0.2 \\}\n",
    "\\end{equation}"
   ]
  },
  {
   "cell_type": "code",
   "execution_count": null,
   "metadata": {
    "collapsed": false
   },
   "outputs": [],
   "source": [
    "S0 = np.abs(grid.squeeze()) < 0.2"
   ]
  },
  {
   "cell_type": "markdown",
   "metadata": {},
   "source": [
    "As we sample within this initial safe set, we gain more knowledge about the system. In particular, we continuously select the most uncertain state within the safe set"
   ]
  },
  {
   "cell_type": "code",
   "execution_count": null,
   "metadata": {
    "collapsed": false
   },
   "outputs": [],
   "source": [
    "def update_gp():\n",
    "    dynamics_mean, dynamics_var = gp._raw_predict(grid)\n",
    "    V_dot = compute_v_dot(dV, dynamics_mean, dynamics_var, beta=2.)\n",
    "    S = get_safe_set(V_dot, L*tau, S0=S0)\n",
    "    c = find_max_levelset(S, V, accuracy)\n",
    "    S[:] = V <= c\n",
    "    max_id = np.argmax(dynamics_var[S])\n",
    "    max_state = grid[S][[max_id], :].copy()\n",
    "    gp.set_XY(np.vstack([gp.X, max_state]),\n",
    "              np.vstack([gp.Y, true_dynamics(max_state, noise=False)[:, [0]]]))\n",
    "    return S"
   ]
  },
  {
   "cell_type": "code",
   "execution_count": null,
   "metadata": {
    "collapsed": true
   },
   "outputs": [],
   "source": [
    "for i in range(3):\n",
    "    update_gp()"
   ]
  },
  {
   "cell_type": "code",
   "execution_count": null,
   "metadata": {
    "collapsed": false
   },
   "outputs": [],
   "source": [
    "mean, var = gp._raw_predict(grid)\n",
    "V_dot = compute_v_dot(dV, mean, var, beta=2.)\n",
    "S = get_safe_set(V_dot, -L*tau, S0=S0)\n",
    "c = find_max_levelset(S, V, accuracy)\n",
    "S[:] = V < c\n",
    "    \n",
    "plot_model(V_dot, S)"
   ]
  },
  {
   "cell_type": "markdown",
   "metadata": {},
   "source": [
    "We continue to sample like this, until we find the maximum safe set"
   ]
  },
  {
   "cell_type": "code",
   "execution_count": null,
   "metadata": {
    "collapsed": false
   },
   "outputs": [],
   "source": [
    "for i in range(20):\n",
    "    update_gp()\n",
    "    \n",
    "mean, var = gp._raw_predict(grid)\n",
    "V_dot = compute_v_dot(dV, mean, var, beta=2.)\n",
    "S = get_safe_set(V_dot, -L*tau, S0=S0)\n",
    "c = find_max_levelset(S, V, accuracy)\n",
    "S[:] = V < c\n",
    "\n",
    "plot_model(V_dot, S)"
   ]
  },
  {
   "cell_type": "code",
   "execution_count": null,
   "metadata": {
    "collapsed": true
   },
   "outputs": [],
   "source": []
  }
 ],
 "metadata": {
  "kernelspec": {
   "display_name": "Python 2",
   "language": "python",
   "name": "python2"
  },
  "language_info": {
   "codemirror_mode": {
    "name": "ipython",
    "version": 2
   },
   "file_extension": ".py",
   "mimetype": "text/x-python",
   "name": "python",
   "nbconvert_exporter": "python",
   "pygments_lexer": "ipython2",
   "version": "2.7.11"
  }
 },
 "nbformat": 4,
 "nbformat_minor": 0
}
