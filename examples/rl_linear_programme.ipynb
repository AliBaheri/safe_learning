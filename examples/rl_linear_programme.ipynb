{
 "cells": [
  {
   "cell_type": "code",
   "execution_count": null,
   "metadata": {
    "collapsed": true
   },
   "outputs": [],
   "source": [
    "# def optimize_value_function(states, actions, vertex_values):\n",
    "#     next_states = dynamics(states, actions)\n",
    "#     rewards = reward_function(states, actions, next_states)\n",
    "#     gamma = 0.9\n",
    "    \n",
    "#     a, b = next_states[:, 0], next_states[:, 1]\n",
    "#     legal_id = (a > domain[0][0]) & (a < domain[0][1]) & (b > domain[1][0]) & (b < domain[1][1])\n",
    "#     terminal_id = is_terminal(states)\n",
    "#     legal_id = np.logical_and(legal_id, ~terminal_id)\n",
    "#     outside_id = np.logical_and(~legal_id, ~terminal_id)\n",
    "    \n",
    "    \n",
    "#     values = cvxpy.Variable(delaunay.nindex)\n",
    "#     gamma = cvxpy.Parameter(sign='positive')\n",
    "    \n",
    "#     h = delaunay.function_values_at(next_states[legal_id]).toarray()\n",
    "    \n",
    "#     constant = np.sum(h[:, terminal_id], axis=1)\n",
    "#     expected_values = constant + h[:, legal_id] * values[legal_id]\n",
    "\n",
    "#     objective = cvxpy.Maximize(cvxpy.sum_entries(values))\n",
    "#     constraints = [values[legal_id] <= rewards[legal_id] + gamma * expected_values,\n",
    "#                    values[terminal_id] == 1,\n",
    "#                    values[outside_id] == 0]\n",
    "\n",
    "    \n",
    "#     prob = cvxpy.Problem(objective, constraints)\n",
    "#     gamma.value = 0.98\n",
    "#     prob.solve()\n",
    "    \n",
    "#     if not prob.status == cvxpy.OPTIMAL:\n",
    "#         raise ValueError('Optimization problem is {}'.format(prob.status))\n",
    "    \n",
    "#     return np.asarray(values.value).squeeze()"
   ]
  }
 ],
 "metadata": {
  "kernelspec": {
   "display_name": "Python 2",
   "language": "python",
   "name": "python2"
  },
  "language_info": {
   "codemirror_mode": {
    "name": "ipython",
    "version": 2
   },
   "file_extension": ".py",
   "mimetype": "text/x-python",
   "name": "python",
   "nbconvert_exporter": "python",
   "pygments_lexer": "ipython2",
   "version": "2.7.12"
  }
 },
 "nbformat": 4,
 "nbformat_minor": 0
}
