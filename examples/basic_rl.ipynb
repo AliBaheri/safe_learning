{
 "cells": [
  {
   "cell_type": "code",
   "execution_count": null,
   "metadata": {
    "collapsed": false
   },
   "outputs": [],
   "source": [
    "import numpy as np\n",
    "import matplotlib.pyplot as plt\n",
    "# import cvxpy\n",
    "from mpl_toolkits.mplot3d import Axes3D\n",
    "%matplotlib inline\n",
    "\n",
    "# Try to import safe_rl from system\n",
    "# if it fails get it from the main folder directly instead.\n",
    "import utilities\n",
    "safe_learning = utilities.import_from_directory('safe_learning', '../')\n",
    "    \n",
    "try:\n",
    "    from tqdm import tqdm\n",
    "except ImportError:\n",
    "    tqdm = lambda x: x"
   ]
  },
  {
   "cell_type": "code",
   "execution_count": null,
   "metadata": {
    "collapsed": false
   },
   "outputs": [],
   "source": [
    "def plot_triangulation(values, axis=None, three_dimensional=False, zlabel=None, **kwargs):\n",
    "    \"\"\"Plot a triangulation.\n",
    "    \n",
    "    Parameters\n",
    "    ----------\n",
    "    values: ndarray\n",
    "    axis: optional\n",
    "    three_dimensional: bool, optional\n",
    "        Whether to plot 3D\n",
    "        \n",
    "    Returns\n",
    "    -------\n",
    "    axis:\n",
    "        The axis on which we plotted.\n",
    "    \"\"\"\n",
    "    if three_dimensional:\n",
    "        if axis is None:\n",
    "            axis = Axes3D(plt.figure())\n",
    "\n",
    "        # Get the simplices and plot\n",
    "        simplices = delaunay.simplices(np.arange(delaunay.nsimplex))\n",
    "        c = axis.plot_trisurf(state_space[:, 0], state_space[:, 1], values,\n",
    "                            triangles=simplices.copy(),\n",
    "                            cmap='viridis', lw=0.1, **kwargs)\n",
    "        cbar = plt.colorbar(c)\n",
    "    else:\n",
    "        if axis is None:\n",
    "            axis = plt.figure().gca()\n",
    "            \n",
    "        # Some magic reshaping to go to physical coordinates\n",
    "        vals = values.reshape(n_points[0] + 1, n_points[1] + 1).T[::-1]\n",
    "        axis = plt.imshow(vals.copy(), origin='upper',\n",
    "                        extent=domain[0] + domain[1],\n",
    "                        aspect='auto', cmap='viridis', interpolation='bilinear', **kwargs)\n",
    "        cbar = plt.colorbar(axis)\n",
    "        axis = axis.axes\n",
    "        \n",
    "    axis.set_xlabel('position')\n",
    "    axis.set_ylabel('velocity')\n",
    "    if zlabel is not None:\n",
    "        cbar.set_label(zlabel)\n",
    "        \n",
    "    return axis"
   ]
  },
  {
   "cell_type": "markdown",
   "metadata": {},
   "source": [
    "##### TODO: Handle different terminal states in a better way!"
   ]
  },
  {
   "cell_type": "code",
   "execution_count": null,
   "metadata": {
    "collapsed": false
   },
   "outputs": [],
   "source": [
    "domain = [[-1.2, 0.7], [-.07, .07]]\n",
    "n_points = [50, 50]\n",
    "delaunay = safe_learning.Triangulation(domain, n_points, project=True)\n",
    "\n",
    "state_space = delaunay.index_to_state(np.arange(delaunay.nindex))\n",
    "action_space = np.array([-1, 1])\n",
    "\n",
    "gamma = .98\n",
    "terminal_reward = 1\n",
    "\n",
    "\n",
    "def dynamics(states, actions):\n",
    "    \"\"\"Return future states of the car\"\"\"\n",
    "    states = np.atleast_2d(states)\n",
    "    actions = np.atleast_2d(actions)\n",
    "    \n",
    "    next_states = states.copy()\n",
    "    \n",
    "    next_states[:, 0] += states[:, 1]\n",
    "    next_states[:, 1] += 0.001 * actions[:, 0] - 0.0025 * np.cos(3 * states[:, 0])\n",
    "    \n",
    "    return next_states\n",
    "\n",
    "\n",
    "def reward_function(states, actions, next_states):\n",
    "    states = np.atleast_2d(states)\n",
    "    return terminal_reward * (states[:, 0] >= 0.6).astype('int')"
   ]
  },
  {
   "cell_type": "code",
   "execution_count": null,
   "metadata": {
    "collapsed": false
   },
   "outputs": [],
   "source": [
    "rl = safe_learning.PolicyIteration(\n",
    "    state_space,\n",
    "    action_space,\n",
    "    dynamics,\n",
    "    reward_function,\n",
    "    function_approximator=delaunay,\n",
    "    gamma=gamma,\n",
    "    terminal_states=state_space[:, 0] >= 0.6,\n",
    "    terminal_reward=1)\n",
    "\n",
    "old_values = np.zeros(delaunay.nindex, dtype=np.float)\n",
    "old_policy = np.random.choice(action_space, size=len(state_space))\n",
    "\n",
    "converged = False\n",
    "\n",
    "for i in tqdm(range(1000)):\n",
    "#     rl.update_value_function()\n",
    "    rl.optimize_value_function()\n",
    "    rl.update_policy()\n",
    "        \n",
    "    # Compute errors\n",
    "    value_change = np.max(np.abs(old_values - rl.values))\n",
    "    policy_converged = np.all(old_policy == rl.policy)\n",
    "    \n",
    "    # Break if converged\n",
    "    if value_change <= 1e-5 and policy_converged:\n",
    "        converged = True\n",
    "        break\n",
    "    else:\n",
    "        old_values[:] = rl.values\n",
    "        old_policy[:] = rl.policy\n",
    "\n",
    "if converged:\n",
    "    print('converged after {} iterations. \\nerror: {}, \\npolicy: {}'\n",
    "          .format(i + 1, value_change, policy_converged))\n",
    "else:\n",
    "    print('didnt converge, error: {} and policy: {}'\n",
    "          .format(value_change, policy_converged))"
   ]
  },
  {
   "cell_type": "code",
   "execution_count": null,
   "metadata": {
    "collapsed": false
   },
   "outputs": [],
   "source": [
    "plot_triangulation(rl.values, zlabel='values')\n",
    "plt.show()\n",
    "\n",
    "plot_triangulation(rl.values, three_dimensional=True, zlabel='values')\n",
    "plt.show()"
   ]
  },
  {
   "cell_type": "code",
   "execution_count": null,
   "metadata": {
    "collapsed": false
   },
   "outputs": [],
   "source": [
    "plot_triangulation(rl.policy, zlabel='policy', three_dimensional=False)\n",
    "plt.show()"
   ]
  },
  {
   "cell_type": "code",
   "execution_count": null,
   "metadata": {
    "collapsed": false
   },
   "outputs": [],
   "source": [
    "states = np.zeros((1000, 2), dtype=np.float)\n",
    "states[0, 0] = -0.5\n",
    "\n",
    "policy = safe_learning.PiecewiseConstant(rl.value_function.limits, \n",
    "                                         rl.value_function.num_points,\n",
    "                                         vertex_values=rl.policy)\n",
    "\n",
    "for i in range(len(states) - 1):\n",
    "    # interpolate action\n",
    "    action = policy.evaluate(states[[i], :])\n",
    "\n",
    "    states[i+1, :] = dynamics(states[i, :], action)\n",
    "    if states[i+1, 0] >= 0.6:\n",
    "        states[i+1:, :] = states[i+1]\n",
    "        break\n"
   ]
  },
  {
   "cell_type": "code",
   "execution_count": null,
   "metadata": {
    "collapsed": false
   },
   "outputs": [],
   "source": [
    "ax = plot_triangulation(rl.values)\n",
    "ax.plot(states[:,0], states[:, 1], lw=3, color='k')\n",
    "ax.plot(np.ones(2) * 0.6, ax.get_ylim(), lw=2, color='r')\n",
    "\n",
    "ax.set_xlabel('pos')\n",
    "ax.set_ylabel('vel')\n",
    "ax.set_xlim(domain[0])\n",
    "ax.set_ylim(domain[1])\n",
    "\n",
    "plt.show()"
   ]
  },
  {
   "cell_type": "code",
   "execution_count": null,
   "metadata": {
    "collapsed": false
   },
   "outputs": [],
   "source": [
    "%time rl.optimize_value_function()"
   ]
  },
  {
   "cell_type": "code",
   "execution_count": null,
   "metadata": {
    "collapsed": false
   },
   "outputs": [],
   "source": [
    "%time rl.update_value_function()"
   ]
  },
  {
   "cell_type": "code",
   "execution_count": null,
   "metadata": {
    "collapsed": true
   },
   "outputs": [],
   "source": []
  }
 ],
 "metadata": {
  "anaconda-cloud": {},
  "kernelspec": {
   "display_name": "Python [default]",
   "language": "python",
   "name": "python2"
  },
  "language_info": {
   "codemirror_mode": {
    "name": "ipython",
    "version": 2
   },
   "file_extension": ".py",
   "mimetype": "text/x-python",
   "name": "python",
   "nbconvert_exporter": "python",
   "pygments_lexer": "ipython2",
   "version": "2.7.13"
  }
 },
 "nbformat": 4,
 "nbformat_minor": 0
}
