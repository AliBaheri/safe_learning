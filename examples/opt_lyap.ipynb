{
 "cells": [
  {
   "cell_type": "code",
   "execution_count": null,
   "metadata": {
    "collapsed": false
   },
   "outputs": [],
   "source": [
    "from __future__ import division, print_function\n",
    "\n",
    "import GPy\n",
    "import numpy as np\n",
    "import matplotlib.pyplot as plt\n",
    "from functools import partial\n",
    "%matplotlib inline\n",
    "\n",
    "# Try to import safe_rl from system\n",
    "# if it fails get it from the main folder directly instead.\n",
    "import utilities\n",
    "from plotting import plot_lyapunov_1d\n",
    "\n",
    "# If library not installed, import it from '../'\n",
    "safe_learning = utilities.import_from_directory('safe_learning', '../')"
   ]
  },
  {
   "cell_type": "markdown",
   "metadata": {},
   "source": [
    "We start by defining a discretization of the space $[-1, 1]$ with discretization constant $\\tau$"
   ]
  },
  {
   "cell_type": "code",
   "execution_count": null,
   "metadata": {
    "collapsed": false
   },
   "outputs": [],
   "source": [
    "# Discretization constant\n",
    "tau = 0.001\n",
    "\n",
    "# x_min, x_max, discretization\n",
    "grid_param = [-1., 1., tau]\n",
    "extent = np.array(grid_param[:2])\n",
    "\n",
    "# Create a grid\n",
    "grid = np.arange(*grid_param)[:, None]\n",
    "num_samples = len(grid)\n",
    "\n",
    "print('Grid size: {0}'.format(len(grid)))"
   ]
  },
  {
   "cell_type": "markdown",
   "metadata": {},
   "source": [
    "### Draw system dynamics from a GP\n",
    "\n",
    "We define a kernel, $k(x,x') = k_{\\mathrm{linear}}(x, x') * k_{\\mathrm{Matern}}(x, x')$, which models a nonlinear, 2-times differentiable function with linearly increasing amplitude. We draw a sample from this kernel in order to define the dynamics.\n",
    "\n",
    "The following plot shows the kind of functions that this kernel implies"
   ]
  },
  {
   "cell_type": "code",
   "execution_count": null,
   "metadata": {
    "collapsed": false
   },
   "outputs": [],
   "source": [
    "kernel = GPy.kern.Matern32(1, lengthscale=0.2, variance=0.5**2) * GPy.kern.Linear(1)\n",
    "\n",
    "for i in range(10):\n",
    "    f = safe_learning.utilities.sample_gp_function(\n",
    "        kernel,\n",
    "        [extent],\n",
    "        num_samples=100,\n",
    "        noise_var=0.1,\n",
    "        interpolation='kernel')\n",
    "    plt.plot(grid, f(grid, noise=False))\n",
    "\n",
    "plt.ylabel('$g(x)$')\n",
    "plt.xlabel('x')\n",
    "plt.title('Samples drawn from the GP model of the dynamics')\n",
    "plt.show()"
   ]
  },
  {
   "cell_type": "markdown",
   "metadata": {},
   "source": [
    "We define the GP model using one particular sample of the GP, in addition to a stable, closed-loop, linear model.\n",
    "$$x_{l+1} = 0.25 x_k + g_\\pi(x),$$\n",
    "\n",
    "The prior dynamics are locally asymptotically stable. Moreover, in the one-dimensional case, the dynamics are stable as long as $|x_{k+1}| \\leq |x_{k}|$."
   ]
  },
  {
   "cell_type": "code",
   "execution_count": null,
   "metadata": {
    "collapsed": false
   },
   "outputs": [],
   "source": [
    "# Observation noise\n",
    "noise_var = 0.01 ** 2\n",
    "\n",
    "# Mean dynamics\n",
    "mf = GPy.core.Mapping(1, 1)\n",
    "mf.f = lambda x: 0.25 * x\n",
    "mf.update_gradients = lambda a, b: None\n",
    "\n",
    "# Define one sample as the true dynamics\n",
    "np.random.seed(5)\n",
    "true_dynamics = safe_learning.utilities.sample_gp_function(\n",
    "    kernel,\n",
    "    [extent],\n",
    "    num_samples=100,\n",
    "    noise_var=noise_var,\n",
    "    interpolation='kernel',\n",
    "    mean_function=mf.f)\n",
    "\n",
    "# Define a GP model over the dynamics\n",
    "gp = GPy.models.GPRegression(np.array([[0]]),\n",
    "                             np.array([[0]]),\n",
    "                             kernel,\n",
    "                             noise_var=noise_var,\n",
    "                             mean_function=mf)\n",
    "\n",
    "# Plot the basic model\n",
    "gp.plot_f(plot_limits=extent)\n",
    "plt.plot(grid, true_dynamics(grid, noise=False), color='black', alpha=0.8)\n",
    "plt.title('GP model of the dynamics')\n",
    "plt.show()"
   ]
  },
  {
   "cell_type": "markdown",
   "metadata": {},
   "source": [
    "Additionally we define a random lyapunov function. Unlike for multiple dimensions, in the one-dimensional case all radially increasing functions are equivalent. Here we pick\n",
    "$$V(x) = x^2$$\n",
    "The previous GP model defines a GP model over $\\dot{V}(x) = \\frac{\\partial V(x)}{\\partial x} f(x)$. In the following, we only consider the 2-$\\sigma$ upper confidence bound of this model. Since the dynamics are Lipschitz continuous, $\\dot{V}$ is Lipschitz continuous as well.\n",
    "\n",
    "In particular, we use Lemma 5 to determine an appropriate Lipschitz constant. For the sample path of the GP, we use the high-probability Lipschitz constant encoded by the kernel."
   ]
  },
  {
   "cell_type": "code",
   "execution_count": null,
   "metadata": {
    "collapsed": false
   },
   "outputs": [],
   "source": [
    "# Initialize to quadratic function\n",
    "lyapunov_function = safe_learning.Triangulation(extent[None, :], 10)\n",
    "lyapunov_function.vertex_values = lyapunov_function.index_to_state(np.arange(lyapunov_function.nindex)).squeeze() ** 2\n",
    "\n",
    "dynamics = safe_learning.GPyGaussianProcess(gp, beta=2.)\n",
    "\n",
    "# Lipschitz constant\n",
    "L_dyn = 0.25 + dynamics.beta(0) * np.sqrt(gp.kern.Mat32.variance) / gp.kern.Mat32.lengthscale * np.max(np.abs(extent))\n",
    "L_V = np.max(lyapunov_function.gradient(grid))\n",
    "\n",
    "lyapunov = safe_learning.LyapunovDiscrete(grid, lyapunov_function, dynamics, L_dyn, L_V, tau, initial_set=None)\n",
    "\n",
    "# Specify the desired accuracy\n",
    "accuracy = np.max(lyapunov.V) / 1e10\n",
    "\n",
    "lyapunov.initial_safe_set = np.abs(lyapunov.discretization.squeeze()) < 0.1"
   ]
  },
  {
   "cell_type": "code",
   "execution_count": null,
   "metadata": {
    "collapsed": false
   },
   "outputs": [],
   "source": [
    "lyapunov.update_safe_set(accuracy=accuracy)\n",
    "plot_lyapunov_1d(lyapunov, true_dynamics, legend=True)"
   ]
  },
  {
   "cell_type": "code",
   "execution_count": null,
   "metadata": {
    "collapsed": false
   },
   "outputs": [],
   "source": [
    "# min x_i \n",
    "# x_i >= 0\n",
    "# l_v = max gradient\n",
    "# for all discrete points:\n",
    "#     V(mu_x) - V(x) + l_v * v_dot_error + l_v (1 + l_f) eps <= xi_i\n",
    "\n",
    "import cvxpy\n",
    "\n",
    "def optimize_lyapunov(lyapunov):\n",
    "    discretization = lyapunov.discretization\n",
    "    dynamics_mean, dynamics_error = dynamics.evaluate(discretization)\n",
    "\n",
    "    # Optimization variables\n",
    "    values = cvxpy.Variable(lyapunov_function.nindex)\n",
    "    slack = cvxpy.Variable(len(discretization))\n",
    "\n",
    "    # Get the gradients at each triangle.\n",
    "    simplex_indeces = np.arange(lyapunov_function.nsimplex)\n",
    "    gradient_mat = lyapunov_function.gradient_constraint(indices=simplex_indeces)\n",
    "    gradient_mat = cvxpy.Constant(gradient_mat)\n",
    "    gradients = gradient_mat * values\n",
    "    l_v = cvxpy.norm(gradients, 'inf')\n",
    "\n",
    "    # V(mu(x))\n",
    "    values_at_mu_mat = lyapunov_function.evaluate_constraint(dynamics_mean)\n",
    "    values_at_mu_mat = cvxpy.Constant(values_at_mu_mat)\n",
    "    values_at_mu = values_at_mu_mat * values\n",
    "\n",
    "    # V(x)\n",
    "    values_at_x_mat = lyapunov_function.evaluate_constraint(discretization)\n",
    "    values_at_x_mat = cvxpy.Constant(values_at_x_mat)\n",
    "    values_at_x = values_at_x_mat * values\n",
    "\n",
    "    # The errors\n",
    "    interpolation_error = l_v * np.sum(dynamics_error, axis=1)\n",
    "    discretization_error = l_v * (1 + lyapunov.lipschitz_dynamics) * lyapunov.epsilon\n",
    "    value_function_diff = values_at_mu - values_at_x + interpolation_error + discretization_error\n",
    "\n",
    "    # Value at the origin\n",
    "    value_at_zero = lyapunov_function.evaluate_constraint(np.array([[0]]))\n",
    "    value_at_zero = cvxpy.Constant(value_at_zero)\n",
    "    value_at_zero = value_at_zero * values\n",
    "\n",
    "    safe_values = lyapunov_function.evaluate_constraint(lyapunov.discretization[lyapunov.initial_safe_set])\n",
    "    safe_values = cvxpy.Constant(safe_values)\n",
    "    safe_values = safe_values * values\n",
    "\n",
    "    # Alternative\n",
    "    # zero_index = lyapunov_function.state_to_index(np.array([[0]]))\n",
    "    # value_at_zero = values[zero_index]\n",
    "\n",
    "    # Discretized values\n",
    "    value_discretization = lyapunov_function.index_to_state(np.arange(lyapunov_function.nindex))\n",
    "    lyapunov_lower_bound = 0.0001 * np.sum(np.abs(value_discretization), axis=1)\n",
    "\n",
    "    # Create problem instance\n",
    "    constraints = [slack >= 0,\n",
    "                   value_function_diff <= slack,\n",
    "                   values >= lyapunov_lower_bound,\n",
    "                   value_at_zero == 0]\n",
    "\n",
    "    objective = cvxpy.Minimize(cvxpy.sum_entries(slack))\n",
    "    # objective = cvxpy.Minimize()\n",
    "\n",
    "    prob = cvxpy.Problem(objective, constraints)\n",
    "    prob.solve()\n",
    "\n",
    "    if prob.status != cvxpy.OPTIMAL:\n",
    "        print(prob.status)\n",
    "    else:\n",
    "        # Update the lyapunov function's inherent properties\n",
    "        lyapunov.lyapunov_function.vertex_values = np.array(values.value).squeeze()\n",
    "        lyapunov.V = lyapunov.lyapunov_function.evaluate(lyapunov.discretization).squeeze()\n",
    "        lyapunov.lipschitz_lyapunov = l_v.value\n",
    "        \n",
    "optimize_lyapunov(lyapunov)"
   ]
  },
  {
   "cell_type": "code",
   "execution_count": null,
   "metadata": {
    "collapsed": false
   },
   "outputs": [],
   "source": [
    "lyapunov.update_safe_set(accuracy=accuracy)\n",
    "plot_lyapunov_1d(lyapunov, true_dynamics, legend=True)"
   ]
  },
  {
   "cell_type": "code",
   "execution_count": null,
   "metadata": {
    "collapsed": true
   },
   "outputs": [],
   "source": [
    "def update_gp():\n",
    "    \"\"\"Update the GP model based on an actively selected data point.\"\"\"\n",
    "    lyapunov.update_safe_set(accuracy=accuracy)\n",
    "    safe_set = lyapunov.safe_set\n",
    "    \n",
    "    # Maximum uncertainty in safe set\n",
    "    dynamics_mean, dynamics_std = lyapunov.dynamics.evaluate(grid)\n",
    "    max_id = np.argmax(dynamics_std[safe_set])\n",
    "    max_state = grid[safe_set][[max_id], :].copy()\n",
    "    \n",
    "    # Add newly obtained data point to the GP\n",
    "    measurement = true_dynamics(max_state, noise=True)[:, [0]]\n",
    "    lyapunov.dynamics.add_data_point(max_state, measurement)\n",
    "    return safe_set"
   ]
  },
  {
   "cell_type": "code",
   "execution_count": null,
   "metadata": {
    "collapsed": true
   },
   "outputs": [],
   "source": [
    "for i in range(10):\n",
    "    update_gp()"
   ]
  },
  {
   "cell_type": "code",
   "execution_count": null,
   "metadata": {
    "collapsed": true
   },
   "outputs": [],
   "source": [
    "lyapunov.update_safe_set(accuracy=accuracy)\n",
    "plot_lyapunov_1d(lyapunov, true_dynamics, legend=True)"
   ]
  },
  {
   "cell_type": "code",
   "execution_count": null,
   "metadata": {},
   "outputs": [],
   "source": []
  }
 ],
 "metadata": {
  "anaconda-cloud": {},
  "kernelspec": {
   "display_name": "Python [default]",
   "language": "python",
   "name": "python2"
  },
  "language_info": {
   "codemirror_mode": {
    "name": "ipython",
    "version": 2
   },
   "file_extension": ".py",
   "mimetype": "text/x-python",
   "name": "python",
   "nbconvert_exporter": "python",
   "pygments_lexer": "ipython2",
   "version": "2.7.13"
  }
 },
 "nbformat": 4,
 "nbformat_minor": 1
}
