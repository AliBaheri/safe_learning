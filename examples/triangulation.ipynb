{
 "cells": [
  {
   "cell_type": "code",
   "execution_count": null,
   "metadata": {
    "collapsed": false
   },
   "outputs": [],
   "source": [
    "from __future__ import division, print_function\n",
    "\n",
    "import numpy as np\n",
    "import matplotlib.pyplot as plt\n",
    "from mpl_toolkits.mplot3d import Axes3D\n",
    "%matplotlib inline\n",
    "\n",
    "# Try to import safe_rl from system\n",
    "# if it fails get it from the main folder directly instead.\n",
    "import utilities\n",
    "safe_learning = utilities.import_from_directory('safe_learning', '../')"
   ]
  },
  {
   "cell_type": "markdown",
   "metadata": {},
   "source": [
    "### Test the triangulation\n",
    "\n",
    "Create a triangulation on a grid and plot the corresponding results.\n",
    "Then take a test point and return in which simplex the corresponding point lies\n",
    "\n",
    "The naming and indexing convention follows the standard C-indexing style (last index moves the fastest).\n",
    "\n",
    "The space is split up into regular hyperrectangles, as given by the limits and npoints arguments. These rectangles are indexed from 0 onwards. Within each hyperrectangle is a delaunay triangulation, which is computed only for one of them (the code is basically a wrapper around ```scipy.spatial.Delaunay```.).\n",
    "\n",
    "Within each hyperrectangle, the order of the triangle indeces is determined by the Delaunay decomposition. Outside, it is given by ```#rectangle * nsimplex + #simplex```, where ```#rectangle``` is the index of the rectangle, ```nsimplex``` is the number of simpleces per hyperrectangle, and ```#simplex``` is the index of the simplex within the rectangle, as given by the Delaunay decomposition."
   ]
  },
  {
   "cell_type": "code",
   "execution_count": null,
   "metadata": {
    "collapsed": false
   },
   "outputs": [],
   "source": [
    "limits = [[-1, 1], [-1, 1]]\n",
    "npoints = [3, 4]\n",
    "\n",
    "# Create triangulation\n",
    "tri = safe_learning.Triangulation(limits, npoints)"
   ]
  },
  {
   "cell_type": "code",
   "execution_count": null,
   "metadata": {
    "collapsed": false
   },
   "outputs": [],
   "source": [
    "# Get all simplices and points\n",
    "simplices = tri.simplices(np.arange(tri.nsimplex))\n",
    "points = tri.index_to_state(np.arange(tri.nindex))\n",
    "\n",
    "# colors\n",
    "simplex_color = 'g'\n",
    "node_color = 'b'\n",
    "rect_color = 'k'\n",
    "\n",
    "# Plot nodes\n",
    "plt.plot(points[:, 0], points[:, 1], 'o', color=node_color)\n",
    "\n",
    "# Annotate nodes\n",
    "for p in points:\n",
    "    plt.text(p[0] - 0.03, p[1] + 0.03,\n",
    "             tri.state_to_index(p)[0],\n",
    "             ha='right', color=node_color)\n",
    "\n",
    "# Annotate rectangles\n",
    "rectangles = tri.rectangle_to_state(np.arange(tri.nrectangles))\n",
    "rectangles += tri.unit_maxes / 2\n",
    "for i, point in enumerate(rectangles):\n",
    "    plt.text(point[0], point[1], '#%d' % i,\n",
    "             ha='center', color=rect_color)\n",
    "\n",
    "# Plot triangles\n",
    "plt.triplot(points[:, 0], points[:, 1], simplices.copy(),\n",
    "            color=simplex_color)\n",
    "\n",
    "# Annotate triangles\n",
    "for i, simplex in enumerate(simplices):\n",
    "    p = points[simplex].mean(axis=0)\n",
    "    plt.text(p[0], p[1], '#%d' % i,\n",
    "             ha='center', color=simplex_color)\n",
    "\n",
    "# Format plot nicely\n",
    "offset = 0.1 * np.array([-1, 1])\n",
    "plt.xlim(tri.limits[0] + offset * np.diff(tri.limits[0]))\n",
    "plt.ylim(tri.limits[1] + offset * np.diff(tri.limits[1]))\n",
    "\n",
    "\n",
    "# test points\n",
    "test_point = np.array([[0.9, 0.9],\n",
    "                       [-0.5, -0.2]])\n",
    "plt.plot(test_point[:, 0], test_point[:, 1], 'x')\n",
    "plt.show()\n",
    "\n",
    "# Output the result of the evaluation\n",
    "test_simplices = tri.find_simplex(test_point)\n",
    "test_simplex_nodes = tri.simplices(test_simplices)\n",
    "\n",
    "print('Evaluation results for test points:\\n')\n",
    "for index, nodes in zip(test_simplices, test_simplex_nodes):\n",
    "    print(\"simplex {id} with nodes {nodes}\".format(id=index, nodes=nodes))\n"
   ]
  },
  {
   "cell_type": "markdown",
   "metadata": {},
   "source": [
    "### Naive implementation in scipy\n",
    "\n",
    "This is just the vanilla scipy implementation of Delaunay, not really something that is supported by this library in any way."
   ]
  },
  {
   "cell_type": "code",
   "execution_count": null,
   "metadata": {
    "collapsed": false
   },
   "outputs": [],
   "source": [
    "from safe_learning.functions import ScipyDelaunay\n",
    "\n",
    "tri = ScipyDelaunay(limits, npoints)\n",
    "points = tri.points\n",
    "simplices = tri.simplices\n",
    "\n",
    "# Plot nodes\n",
    "plt.plot(points[:, 0], points[:, 1], 'o', color=node_color)\n",
    "\n",
    "# Annotate nodes\n",
    "for i, p in enumerate(points):\n",
    "    plt.text(p[0] - 0.03, p[1] + 0.03, i,\n",
    "             ha='right', color=node_color)\n",
    "    \n",
    "# Plot triangles\n",
    "plt.triplot(points[:, 0], points[:, 1], simplices.copy(),\n",
    "            color=simplex_color)\n",
    "\n",
    "# Annotate triangles\n",
    "for i, simplex in enumerate(simplices):\n",
    "    p = points[simplex].mean(axis=0)\n",
    "    plt.text(p[0], p[1], '#%d' % i,\n",
    "             ha='center', color=simplex_color)\n",
    "    \n",
    "# Format plot nicely\n",
    "offset = 0.1 * np.array([-1, 1])\n",
    "plt.xlim(tri.limits[0] + offset * np.diff(tri.limits[0]))\n",
    "plt.ylim(tri.limits[1] + offset * np.diff(tri.limits[1]))\n",
    "plt.show()"
   ]
  },
  {
   "cell_type": "markdown",
   "metadata": {},
   "source": [
    "### Speed comparison"
   ]
  },
  {
   "cell_type": "code",
   "execution_count": null,
   "metadata": {
    "collapsed": false
   },
   "outputs": [],
   "source": [
    "import timeit\n",
    "\n",
    "test_points = np.arange(10, 51, 5)\n",
    "ntrials = 5\n",
    "time = np.empty((len(test_points), 2), dtype=np.float)\n",
    "\n",
    "for i, n in enumerate(test_points):\n",
    "    npoints = [n, n]\n",
    "\n",
    "    time[i, 0] = timeit.timeit('Triangulation({0}, {1})'.format(limits, npoints),\n",
    "                               setup='from safe_learning import Triangulation',\n",
    "                               number=ntrials)\n",
    "\n",
    "    time[i, 1] = timeit.timeit('ScipyDelaunay({0}, {1})'\n",
    "                               .format(limits, npoints),\n",
    "                               setup='from safe_learning.functions import ScipyDelaunay',\n",
    "                               number=ntrials)\n",
    "\n",
    "ntriangles = 2 * test_points ** 2\n",
    "\n",
    "plt.plot(ntriangles, time[:, 0], label='efficient')\n",
    "plt.plot(ntriangles, time[:, 1], label='scipy')\n",
    "plt.ylabel('Computation time [s]')\n",
    "plt.xlabel('Number of triangles')\n",
    "plt.legend()\n",
    "plt.show()"
   ]
  },
  {
   "cell_type": "markdown",
   "metadata": {},
   "source": [
    "# Test the function value capability\n",
    "\n",
    "#### Get matrix for values of test points\n",
    "\n",
    "For each vertex x, the next state is given by some function $f(x)$. The goal is to find the value $V(f(x))$ as a function of the values at the other vertices. This value can then be used as a constraint in the optimization problem.\n",
    "$$V(f(x)) = a^\\mathrm{T} V(\\mathrm{vertices})$$\n",
    "\n",
    "We start by finding the simplex corresponding to $f(x)$. Given this simplex's vertices, we solve for $a$ above, using one arbitrary vertex as a reference point:\n",
    "$$V(f(x)) = V(v_1) + a_1 V(v_2) + a_2 V(v_3)$$\n",
    "\n",
    "The hyperplane spanned by the simplex is given by\n",
    "\\begin{align*}\n",
    "\\xi_1 ( x_2 - x_1) + \\xi_2 (y_2 - y_1) = V(v_2) - V(v_1) \\\\\n",
    "\\xi_1 ( x_3 - x_1) + \\xi_2 (y_3 - y_1) = V(v_3) - V(v_1) \n",
    "\\end{align*}\n",
    "\n",
    "and, as a result,\n",
    "$$V(f(x_t)) = V(v_1) + (x_t - x_1, y_t - y_1)\n",
    "\\left( \\begin{matrix}\n",
    "x_2 - x_1 & y_2 - y_1 \\\\\n",
    "x_3 - x_1 & y_3 - y_1\n",
    "\\end{matrix} \\right)^{-1}\n",
    "\\left( \\begin{matrix}\n",
    "V(v_2) - V(v_1) \\\\\n",
    "V(v_3) - V(v_1)\n",
    "\\end{matrix} \\right),\n",
    "$$\n",
    "which can easily be solved for $a_1$ and $a_2$."
   ]
  },
  {
   "cell_type": "code",
   "execution_count": null,
   "metadata": {
    "collapsed": false
   },
   "outputs": [],
   "source": [
    "fig = plt.figure()\n",
    "ax = Axes3D(fig)\n",
    "ax.view_init()\n",
    "c = ax.plot_trisurf(points[:, 0], points[:, 1], 2 * np.random.rand(len(points)),\n",
    "                    triangles=simplices.copy(),\n",
    "                    cmap='viridis', lw=0.1)\n",
    "plt.colorbar(c)"
   ]
  },
  {
   "cell_type": "code",
   "execution_count": null,
   "metadata": {
    "collapsed": true
   },
   "outputs": [],
   "source": []
  }
 ],
 "metadata": {
  "anaconda-cloud": {},
  "kernelspec": {
   "display_name": "Python 2",
   "language": "python",
   "name": "python2"
  },
  "language_info": {
   "codemirror_mode": {
    "name": "ipython",
    "version": 2
   },
   "file_extension": ".py",
   "mimetype": "text/x-python",
   "name": "python",
   "nbconvert_exporter": "python",
   "pygments_lexer": "ipython2",
   "version": "2.7.13"
  }
 },
 "nbformat": 4,
 "nbformat_minor": 1
}
