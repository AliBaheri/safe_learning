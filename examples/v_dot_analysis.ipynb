{
 "cells": [
  {
   "cell_type": "code",
   "execution_count": null,
   "metadata": {
    "collapsed": false
   },
   "outputs": [],
   "source": [
    "from __future__ import division, print_function\n",
    "\n",
    "import GPy\n",
    "import numpy as np\n",
    "import matplotlib.pyplot as plt\n",
    "from functools import partial\n",
    "%matplotlib inline\n",
    "\n",
    "# Try to import safe_rl from system\n",
    "# if it fails get it from the main folder directly instead.\n",
    "import utilities\n",
    "from plotting import plot_lyapunov_1d\n",
    "\n",
    "# If library not installed, import it from '../'\n",
    "safe_learning = utilities.import_from_directory('safe_learning', '../')"
   ]
  },
  {
   "cell_type": "code",
   "execution_count": null,
   "metadata": {
    "collapsed": false
   },
   "outputs": [],
   "source": [
    "# x_min, x_max, discretization\n",
    "state_limits = np.array([-1., 1.])\n",
    "action_limits = np.array([-1., 1.])\n",
    "num_states = 100\n",
    "num_actions = 100\n",
    "\n",
    "# action_space = np.linspace(action_limits[0], action_limits[1], num_actions)[:, None]\n",
    "\n",
    "# Create a grid\n",
    "discretization = safe_learning.GridWorld([state_limits, action_limits], [num_states, num_actions])\n",
    "grid = discretization.all_points\n",
    "\n",
    "state_space = safe_learning.GridWorld([state_limits], num_states).all_points\n",
    "action_space = safe_learning.GridWorld([action_limits], num_actions).all_points"
   ]
  },
  {
   "cell_type": "code",
   "execution_count": null,
   "metadata": {
    "collapsed": false
   },
   "outputs": [],
   "source": [
    "kernel = GPy.kern.Matern32(1, lengthscale=0.1, variance=0.1**2, active_dims=[1]) * GPy.kern.Linear(1, active_dims=[1])\n",
    "noise_var = 0.01 ** 2\n",
    "\n",
    "# Mean dynamics\n",
    "mf = GPy.core.Mapping(2, 1)\n",
    "mf.f = lambda x: 1.2 * x[:, [0]] + 0.5 * x[:, [1]]\n",
    "mf.update_gradients = lambda a, b: None\n",
    "\n",
    "# Define one sample as the true dynamics\n",
    "dynamics = safe_learning.sample_gp_function(\n",
    "    kernel,\n",
    "    [state_limits, action_limits],\n",
    "    num_samples=[20, 20],\n",
    "    noise_var=noise_var,\n",
    "    interpolation='kernel',\n",
    "    mean_function=mf.f)"
   ]
  },
  {
   "cell_type": "code",
   "execution_count": null,
   "metadata": {
    "collapsed": false
   },
   "outputs": [],
   "source": [
    "dyns = dynamics(grid)"
   ]
  },
  {
   "cell_type": "code",
   "execution_count": null,
   "metadata": {
    "collapsed": false
   },
   "outputs": [],
   "source": [
    "img = plt.imshow(dyns.reshape(num_states, num_actions).T, origin='lower', extent=[-1, 1, -1, 1])\n",
    "plt.xlabel('state')\n",
    "plt.ylabel('action')\n",
    "plt.colorbar(img)"
   ]
  },
  {
   "cell_type": "code",
   "execution_count": null,
   "metadata": {
    "collapsed": false
   },
   "outputs": [],
   "source": [
    "lyapunov_function = safe_learning.Triangulation(state_limits[None, :], 3, vertex_values=[1, 0, 1])\n",
    "\n",
    "# Lipschitz constant\n",
    "L_dyn = 0.\n",
    "L_V = 0.\n",
    "tau = 0\n",
    "policy = np.zeros((len(state_space), 1))\n",
    "\n",
    "lyapunov = safe_learning.LyapunovDiscrete(state_space, lyapunov_function, dynamics, L_dyn, L_V, tau, initial_set=None, policy=policy)\n"
   ]
  },
  {
   "cell_type": "code",
   "execution_count": null,
   "metadata": {
    "collapsed": false
   },
   "outputs": [],
   "source": [
    "safe = np.empty((num_states, num_actions), dtype=np.bool)\n",
    "\n",
    "policy = np.array([0], dtype=np.float)\n",
    "policy_array = np.broadcast_to(policy, (num_states, 1))\n",
    "\n",
    "for i, u in enumerate(action_space):\n",
    "    policy[:] = u\n",
    "    safe[:, i] = lyapunov.safety_constraint(policy_array)"
   ]
  },
  {
   "cell_type": "code",
   "execution_count": null,
   "metadata": {
    "collapsed": false
   },
   "outputs": [],
   "source": [
    "img = plt.imshow(safe.T, origin='lower', extent=[-1, 1, -1, 1])\n",
    "plt.xlabel('state')\n",
    "plt.ylabel('action')\n",
    "plt.colorbar(img)"
   ]
  },
  {
   "cell_type": "code",
   "execution_count": null,
   "metadata": {
    "collapsed": true
   },
   "outputs": [],
   "source": []
  }
 ],
 "metadata": {
  "kernelspec": {
   "display_name": "Python [default]",
   "language": "python",
   "name": "python2"
  },
  "language_info": {
   "codemirror_mode": {
    "name": "ipython",
    "version": 2
   },
   "file_extension": ".py",
   "mimetype": "text/x-python",
   "name": "python",
   "nbconvert_exporter": "python",
   "pygments_lexer": "ipython2",
   "version": "2.7.13"
  }
 },
 "nbformat": 4,
 "nbformat_minor": 1
}
