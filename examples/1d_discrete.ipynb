{
 "cells": [
  {
   "cell_type": "code",
   "execution_count": null,
   "metadata": {
    "collapsed": false,
    "deletable": true,
    "editable": true
   },
   "outputs": [],
   "source": [
    "from __future__ import division, print_function\n",
    "\n",
    "import GPflow\n",
    "import tensorflow as tf\n",
    "import numpy as np\n",
    "import matplotlib.pyplot as plt\n",
    "from functools import partial\n",
    "%matplotlib inline\n",
    "\n",
    "# Try to import safe_rl from system\n",
    "# if it fails get it from the main folder directly instead.\n",
    "import utilities\n",
    "from plotting import plot_lyapunov_1d\n",
    "\n",
    "# If library not installed, import it from '../'\n",
    "safe_learning = utilities.import_from_directory('safe_learning', '../')\n",
    "\n",
    "\n",
    "try:\n",
    "    session.close()\n",
    "except NameError:\n",
    "    pass\n",
    "finally:\n",
    "    session = tf.InteractiveSession()\n",
    "    session.run(tf.global_variables_initializer())"
   ]
  },
  {
   "cell_type": "markdown",
   "metadata": {
    "deletable": true,
    "editable": true
   },
   "source": [
    "We start by defining a discretization of the space $[-1, 1]$ with discretization constant $\\tau$"
   ]
  },
  {
   "cell_type": "code",
   "execution_count": null,
   "metadata": {
    "collapsed": false,
    "deletable": true,
    "editable": true
   },
   "outputs": [],
   "source": [
    "# Discretization constant\n",
    "# tau = 0.001\n",
    "\n",
    "# x_min, x_max, discretization\n",
    "# grid_param = [-1., 1., tau]\n",
    "# extent = np.array(grid_param[:2])\n",
    "\n",
    "discretization = safe_learning.GridWorld([-1, 1], 1001)\n",
    "tau = 1 / discretization.nindex\n",
    "\n",
    "print('Grid size: {0}'.format(discretization.nindex))"
   ]
  },
  {
   "cell_type": "markdown",
   "metadata": {
    "deletable": true,
    "editable": true
   },
   "source": [
    "We define the GP model using one particular sample of the GP, in addition to a stable, closed-loop, linear model.\n",
    "$$x_{l+1} = 0.25 x_k + g_\\pi(x),$$\n",
    "\n",
    "The prior dynamics are locally asymptotically stable. Moreover, in the one-dimensional case, the dynamics are stable as long as $|x_{k+1}| \\leq |x_{k}|$."
   ]
  },
  {
   "cell_type": "code",
   "execution_count": null,
   "metadata": {
    "collapsed": false,
    "deletable": true,
    "editable": true
   },
   "outputs": [],
   "source": [
    "# Observation noise\n",
    "noise_var = 0.01 ** 2\n",
    "\n",
    "# Mean dynamics\n",
    "mean_function = safe_learning.LinearSystem(0.25, 0.)\n",
    "\n",
    "kernel = (GPflow.kernels.Matern32(1, lengthscales=0.2, variance=0.2**2, active_dims=[0])\n",
    "          * GPflow.kernels.Linear(1, active_dims=[0]))\n",
    "\n",
    "gp = GPflow.gpr.GPR(np.empty((0, 2), dtype=np.float),\n",
    "                    np.empty((0, 1), dtype=np.float),\n",
    "                    kernel,\n",
    "                    mean_function=mean_function)\n",
    "\n",
    "gpfun = safe_learning.GaussianProcess(gp)\n",
    "\n",
    "# Define one sample as the true dynamics\n",
    "np.random.seed(5)\n",
    "\n",
    "# Set up a discretization\n",
    "sample_disc = np.hstack((np.linspace(-1, 1, 50)[:, None],\n",
    "                         np.zeros((50, 1))))\n",
    "\n",
    "# Draw samples\n",
    "fs = safe_learning.sample_gp_function(sample_disc, gpfun, number=10, return_function=False)\n",
    "plt.plot(sample_disc[:, 0], fs.T)\n",
    "\n",
    "plt.ylabel('$g(x)$')\n",
    "plt.xlabel('x')\n",
    "plt.title('Samples drawn from the GP model of the dynamics')\n",
    "plt.show()\n",
    "\n",
    "\n",
    "true_dynamics = safe_learning.sample_gp_function(\n",
    "    sample_disc,\n",
    "    gpfun)[0]\n",
    "\n",
    "# # Plot the basic model\n",
    "# gp.plot_f(plot_limits=extent)\n",
    "true_y = true_dynamics(sample_disc, noise=False).eval(feed_dict=true_dynamics.feed_dict)\n",
    "plt.plot(sample_disc[:, 0], true_y, color='black', alpha=0.8)\n",
    "plt.title('GP model of the dynamics')\n",
    "plt.show()"
   ]
  },
  {
   "cell_type": "code",
   "execution_count": null,
   "metadata": {
    "collapsed": false,
    "deletable": true,
    "editable": true
   },
   "outputs": [],
   "source": [
    "# lyapunov_function = safe_learning.QuadraticFunction(np.array([[1]]))\n",
    "# n_linear = 10\n",
    "# lyapunov_function = safe_learning.Triangulation(extent[None, :], n_linear)\n",
    "# points = lyapunov_function.index_to_state(np.arange(lyapunov_function.nindex))\n",
    "# lyapunov_function.vertex_values = points.squeeze() ** 2\n",
    "lyapunov_disc = safe_learning.GridWorld([-1., 1.], 3)\n",
    "lyapunov_function = safe_learning.Triangulation(lyapunov_disc, [1, 0, 1])\n",
    "\n",
    "dynamics = gpfun\n",
    "\n",
    "# Lipschitz constant\n",
    "# L_dyn = 0.25 + dynamics.beta(0) * np.sqrt(gp.kern.Mat32.variance) / gp.kern.Mat32.lengthscale * np.max(np.abs(extent))\n",
    "# L_V = np.max(lyapunov_function.gradient(grid))\n",
    "\n",
    "# lyapunov = safe_learning.LyapunovDiscrete(grid, lyapunov_function, dynamics, L_dyn, L_V, tau, initial_set=None)\n",
    "\n",
    "# Specify the desired accuracy\n",
    "# accuracy = np.max(lyapunov.V) / 1e10"
   ]
  },
  {
   "cell_type": "markdown",
   "metadata": {
    "deletable": true,
    "editable": true
   },
   "source": [
    "## Safety based on GP model\n",
    "\n",
    "Let's start by plotting the prior over the dynamics and the associated prior over $\\dot{V}(x)$."
   ]
  },
  {
   "cell_type": "code",
   "execution_count": null,
   "metadata": {
    "collapsed": false,
    "deletable": true,
    "editable": true
   },
   "outputs": [],
   "source": [
    "lyapunov.update_safe_set(accuracy=accuracy)\n",
    "plot_lyapunov_1d(lyapunov, true_dynamics, legend=True)"
   ]
  },
  {
   "cell_type": "markdown",
   "metadata": {
    "deletable": true,
    "editable": true
   },
   "source": [
    "Clearly the model does not allow us to classify any states as safe ($\\dot{V} < -L \\tau$). However, as a starting point, we assume that we know that the system is asymptotially stable within some initial set, $\\mathcal{S}_0$:\n",
    "\n",
    "$$\\mathcal{S}_0 = \\{ x \\in \\mathbb{R} \\,|\\, |x| < 0.2 \\}$$"
   ]
  },
  {
   "cell_type": "code",
   "execution_count": null,
   "metadata": {
    "collapsed": false,
    "deletable": true,
    "editable": true
   },
   "outputs": [],
   "source": [
    "lyapunov.initial_safe_set = np.abs(lyapunov.discretization.squeeze()) < 0.2"
   ]
  },
  {
   "cell_type": "markdown",
   "metadata": {
    "deletable": true,
    "editable": true
   },
   "source": [
    "## Online learning\n",
    "As we sample within this initial safe set, we gain more knowledge about the system. In particular, we iteratively select the state withing the safe set, $\\mathcal{S}_n$, where the dynamics are the most uncertain (highest variance)."
   ]
  },
  {
   "cell_type": "code",
   "execution_count": null,
   "metadata": {
    "collapsed": false,
    "deletable": true,
    "editable": true
   },
   "outputs": [],
   "source": [
    "def update_gp():\n",
    "    \"\"\"Update the GP model based on an actively selected data point.\"\"\"\n",
    "    lyapunov.update_safe_set(accuracy=accuracy)\n",
    "    safe_set = lyapunov.safe_set\n",
    "    \n",
    "    # Maximum uncertainty in safe set\n",
    "    dynamics_mean, dynamics_std = lyapunov.dynamics.evaluate(grid)\n",
    "    max_id = np.argmax(dynamics_std[safe_set])\n",
    "    max_state = grid[safe_set][[max_id], :].copy()\n",
    "    \n",
    "    # Add newly obtained data point to the GP\n",
    "    measurement = true_dynamics(max_state, noise=True)[:, [0]]\n",
    "    lyapunov.dynamics.add_data_point(max_state, measurement)\n",
    "    return safe_set"
   ]
  },
  {
   "cell_type": "code",
   "execution_count": null,
   "metadata": {
    "collapsed": false,
    "deletable": true,
    "editable": true
   },
   "outputs": [],
   "source": [
    "# Update the GP model a couple of times\n",
    "for i in range(4):\n",
    "    update_gp()"
   ]
  },
  {
   "cell_type": "code",
   "execution_count": null,
   "metadata": {
    "collapsed": false,
    "deletable": true,
    "editable": true
   },
   "outputs": [],
   "source": [
    "# Plot the new safe set\n",
    "lyapunov.update_safe_set(accuracy=accuracy)\n",
    "plot_lyapunov_1d(lyapunov, true_dynamics, legend=True)"
   ]
  },
  {
   "cell_type": "markdown",
   "metadata": {
    "deletable": true,
    "editable": true
   },
   "source": [
    "We continue to sample like this, until we find the maximum safe set"
   ]
  },
  {
   "cell_type": "code",
   "execution_count": null,
   "metadata": {
    "collapsed": false,
    "deletable": true,
    "editable": true
   },
   "outputs": [],
   "source": [
    "for i in range(20):\n",
    "    update_gp()\n",
    "\n",
    "lyapunov.update_safe_set(accuracy=accuracy)\n",
    "plot_lyapunov_1d(lyapunov, true_dynamics, legend=False)"
   ]
  },
  {
   "cell_type": "code",
   "execution_count": null,
   "metadata": {
    "collapsed": true,
    "deletable": true,
    "editable": true
   },
   "outputs": [],
   "source": []
  }
 ],
 "metadata": {
  "anaconda-cloud": {},
  "kernelspec": {
   "display_name": "Python 2",
   "language": "python",
   "name": "python2"
  },
  "language_info": {
   "codemirror_mode": {
    "name": "ipython",
    "version": 2
   },
   "file_extension": ".py",
   "mimetype": "text/x-python",
   "name": "python",
   "nbconvert_exporter": "python",
   "pygments_lexer": "ipython2",
   "version": "2.7.13"
  }
 },
 "nbformat": 4,
 "nbformat_minor": 1
}
