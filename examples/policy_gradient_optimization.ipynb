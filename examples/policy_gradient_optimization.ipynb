{
 "cells": [
  {
   "cell_type": "code",
   "execution_count": null,
   "metadata": {
    "collapsed": false,
    "deletable": true,
    "editable": true
   },
   "outputs": [],
   "source": [
    "from __future__ import division, print_function\n",
    "\n",
    "import GPflow\n",
    "import tensorflow as tf\n",
    "ScipyOptimizerInterface = tf.contrib.opt.ScipyOptimizerInterface\n",
    "import numpy as np\n",
    "import scipy\n",
    "import cvxpy\n",
    "from scipy import linalg\n",
    "import matplotlib.pyplot as plt\n",
    "%matplotlib inline\n",
    "\n",
    "from scipy.optimize import check_grad\n",
    "from plotting import plot_lyapunov_1d\n",
    "\n",
    "import safe_learning"
   ]
  },
  {
   "cell_type": "markdown",
   "metadata": {},
   "source": [
    "## Specify RL problem"
   ]
  },
  {
   "cell_type": "code",
   "execution_count": null,
   "metadata": {
    "collapsed": false,
    "deletable": true,
    "editable": true
   },
   "outputs": [],
   "source": [
    "domain = [-1, 1]\n",
    "n_points = 101\n",
    "\n",
    "\n",
    "gamma = .98\n",
    "\n",
    "a = np.array([[1.2]])\n",
    "b = np.array([[1.]])\n",
    "q = np.array([[1.]])\n",
    "r = np.array([[1.]])\n",
    "\n",
    "dynamics = safe_learning.LinearSystem(a, b)\n",
    "\n",
    "discretization = safe_learning.GridWorld(domain, n_points)\n",
    "state_space = discretization.all_points\n",
    "\n",
    "\n",
    "# Create the optimal value function\n",
    "k_opt, s = safe_learning.utilities.dlqr(a, b, q, r)\n",
    "\n",
    "value_function = safe_learning.Triangulation(discretization, s * state_space ** 2, project=True)\n",
    "\n",
    "\n",
    "reward = safe_learning.QuadraticFunction(linalg.block_diag(q, r))\n",
    "\n",
    "policy_discretization = safe_learning.GridWorld([-1, 1], 15)\n",
    "policy = safe_learning.Triangulation(policy_discretization, policy_discretization.all_points * 0.)\n",
    "\n",
    "\n",
    "rl = safe_learning.PolicyIteration(\n",
    "    state_space,\n",
    "    policy,\n",
    "    dynamics,\n",
    "    reward,\n",
    "    function_approximator=value_function,\n",
    "    gamma=gamma)\n",
    "\n",
    "try:\n",
    "    session.close()\n",
    "except:\n",
    "    pass\n",
    "session = tf.Session()\n",
    "session.run(tf.global_variables_initializer())"
   ]
  },
  {
   "cell_type": "markdown",
   "metadata": {},
   "source": [
    "## Plot value function (optimize if wanted)"
   ]
  },
  {
   "cell_type": "code",
   "execution_count": null,
   "metadata": {
    "collapsed": false,
    "deletable": true,
    "editable": true
   },
   "outputs": [],
   "source": [
    "with session.as_default():    \n",
    "    plt.plot(rl.state_space, rl.value_function.parameters.eval())\n",
    "    plt.plot(rl.state_space, s * rl.state_space ** 2)\n",
    "    plt.show()\n",
    "    plt.plot(rl.state_space, rl.policy(rl.state_space).eval())\n",
    "    plt.show()\n",
    "        "
   ]
  },
  {
   "cell_type": "markdown",
   "metadata": {},
   "source": [
    "## Create optimization problem"
   ]
  },
  {
   "cell_type": "code",
   "execution_count": null,
   "metadata": {
    "collapsed": false,
    "deletable": true,
    "editable": true
   },
   "outputs": [],
   "source": [
    "loss = tf.reduce_sum(rl.future_values(rl.state_space))\n",
    "gradient = tf.gradients(loss, rl.policy.parameters)\n",
    "gradient = tf.convert_to_tensor(gradient[0])\n",
    "\n",
    "input_inequality = tf.reduce_min(0.3 - tf.abs(rl.policy(rl.state_space)))"
   ]
  },
  {
   "cell_type": "code",
   "execution_count": null,
   "metadata": {
    "collapsed": false,
    "deletable": true,
    "editable": true
   },
   "outputs": [],
   "source": [
    "optimizer = ScipyOptimizerInterface(loss,\n",
    "                                    var_list=[rl.policy.parameters],\n",
    "                                    inequalities=[input_inequality],\n",
    "                                    method='SLSQP')\n",
    "\n",
    "optimizer.minimize(session, feed_dict=rl.dynamics.feed_dict)"
   ]
  },
  {
   "cell_type": "code",
   "execution_count": null,
   "metadata": {
    "collapsed": false,
    "deletable": true,
    "editable": true
   },
   "outputs": [],
   "source": [
    "with session.as_default():\n",
    "    initial_param = rl.policy.parameters.initial_value.eval()\n",
    "    plt.plot(policy_discretization.all_points, initial_param, label='init')\n",
    "    plt.plot(state_space, -k_opt * state_space, label='opt', lw=5, alpha=0.5)\n",
    "    plt.plot(state_space, rl.policy(state_space).eval(), label='new')\n",
    "    plt.legend()"
   ]
  },
  {
   "cell_type": "code",
   "execution_count": null,
   "metadata": {
    "collapsed": true,
    "deletable": true,
    "editable": true
   },
   "outputs": [],
   "source": []
  }
 ],
 "metadata": {
  "kernelspec": {
   "display_name": "Python 2",
   "language": "python",
   "name": "python2"
  },
  "language_info": {
   "codemirror_mode": {
    "name": "ipython",
    "version": 2
   },
   "file_extension": ".py",
   "mimetype": "text/x-python",
   "name": "python",
   "nbconvert_exporter": "python",
   "pygments_lexer": "ipython2",
   "version": "2.7.13"
  }
 },
 "nbformat": 4,
 "nbformat_minor": 2
}
