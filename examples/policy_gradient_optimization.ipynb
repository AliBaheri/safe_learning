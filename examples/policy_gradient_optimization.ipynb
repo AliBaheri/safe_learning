{
 "cells": [
  {
   "cell_type": "code",
   "execution_count": null,
   "metadata": {},
   "outputs": [],
   "source": [
    "from __future__ import division, print_function\n",
    "\n",
    "import tensorflow as tf\n",
    "import numpy as np\n",
    "from scipy import linalg\n",
    "import matplotlib.pyplot as plt\n",
    "%matplotlib inline\n",
    "\n",
    "from plotting import show_graph\n",
    "\n",
    "import safe_learning"
   ]
  },
  {
   "cell_type": "markdown",
   "metadata": {},
   "source": [
    "## Specify RL problem"
   ]
  },
  {
   "cell_type": "code",
   "execution_count": null,
   "metadata": {},
   "outputs": [],
   "source": [
    "domain = [-1, 1]\n",
    "gamma = .98\n",
    "\n",
    "a = 1.2\n",
    "b = 1.\n",
    "q = np.array([[1.]])\n",
    "r = np.array([[1.]])\n",
    "\n",
    "# Standard LQR setup\n",
    "dynamics = safe_learning.LinearSystem((a, b))\n",
    "reward = safe_learning.QuadraticFunction(linalg.block_diag(q, r))\n",
    "\n",
    "# Compute optimal value function and controller\n",
    "k_opt, s_opt = safe_learning.utilities.dlqr(a, b, q, r)\n",
    "\n",
    "# Discretize the worl\n",
    "discretization = safe_learning.GridWorld([-1, 1], 101)\n",
    "state_space = discretization.all_points\n",
    "\n",
    "# Specify the value function\n",
    "value_function = safe_learning.Triangulation(discretization,\n",
    "                                             s_opt * state_space ** 2,\n",
    "                                             project=True,\n",
    "                                             name='value_function')\n",
    "\n",
    "# Specify a policy\n",
    "policy_discretization = safe_learning.GridWorld(domain, 15)\n",
    "policy = safe_learning.Triangulation(policy_discretization,\n",
    "                                     np.zeros((policy_discretization.nindex, 1), dtype=np.float),\n",
    "                                     name='policy')\n",
    "\n",
    "rl = safe_learning.PolicyIteration(\n",
    "    policy,\n",
    "    dynamics,\n",
    "    reward,\n",
    "    value_function,\n",
    "    gamma=gamma)\n",
    "\n",
    "# Create a tensorflow session\n",
    "try:\n",
    "    session.close()\n",
    "except NameError:\n",
    "    pass\n",
    "finally:\n",
    "    session = tf.InteractiveSession()\n",
    "    session.run(tf.global_variables_initializer())"
   ]
  },
  {
   "cell_type": "markdown",
   "metadata": {},
   "source": [
    "## Plot value function\n",
    "\n",
    "The value function is optimal, but the policy is all zeros. So let's optimize the value function."
   ]
  },
  {
   "cell_type": "code",
   "execution_count": null,
   "metadata": {},
   "outputs": [],
   "source": [
    "plt.plot(state_space, rl.value_function.parameters[0].eval())\n",
    "# plt.plot(state_space, s_opt * state_space ** 2)\n",
    "plt.show()\n",
    "plt.plot(state_space, rl.policy(rl.state_space).eval())\n",
    "plt.show()\n",
    "        "
   ]
  },
  {
   "cell_type": "markdown",
   "metadata": {},
   "source": [
    "## Create optimization problem"
   ]
  },
  {
   "cell_type": "code",
   "execution_count": null,
   "metadata": {},
   "outputs": [],
   "source": [
    "with tf.variable_scope('optimization/objective'):\n",
    "    loss = tf.reduce_sum(rl.future_values(rl.state_space), name='loss')\n",
    "    input_inequality = tf.reduce_min(0.3 - tf.abs(rl.policy(rl.state_space)), name='input_inequality')"
   ]
  },
  {
   "cell_type": "code",
   "execution_count": null,
   "metadata": {},
   "outputs": [],
   "source": [
    "ScipyOptimizerInterface = tf.contrib.opt.ScipyOptimizerInterface\n",
    "\n",
    "with tf.variable_scope('optimization/optimizer'):\n",
    "    optimizer = ScipyOptimizerInterface(loss,\n",
    "                                        var_list=rl.policy.parameters,\n",
    "                                        inequalities=[input_inequality],\n",
    "                                        method='SLSQP')\n",
    "\n",
    "    optimizer.minimize(session, feed_dict=rl.dynamics.feed_dict)\n",
    "\n",
    "\n",
    "show_graph(tf.get_default_graph())"
   ]
  },
  {
   "cell_type": "code",
   "execution_count": null,
   "metadata": {},
   "outputs": [],
   "source": [
    "initial_param = rl.policy.parameters[0].initial_value.eval()\n",
    "\n",
    "plt.plot(policy_discretization.all_points, initial_param, label='init')\n",
    "plt.plot(state_space, -k_opt * state_space, label='opt', lw=5, alpha=0.5)\n",
    "plt.plot(state_space, rl.policy(state_space).eval(), label='new')\n",
    "plt.legend()"
   ]
  },
  {
   "cell_type": "code",
   "execution_count": null,
   "metadata": {
    "collapsed": true
   },
   "outputs": [],
   "source": []
  }
 ],
 "metadata": {
  "kernelspec": {
   "display_name": "Python 2",
   "language": "python",
   "name": "python2"
  },
  "language_info": {
   "codemirror_mode": {
    "name": "ipython",
    "version": 2
   },
   "file_extension": ".py",
   "mimetype": "text/x-python",
   "name": "python",
   "nbconvert_exporter": "python",
   "pygments_lexer": "ipython2",
   "version": "2.7.13"
  }
 },
 "nbformat": 4,
 "nbformat_minor": 2
}
