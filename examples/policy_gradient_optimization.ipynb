{
 "cells": [
  {
   "cell_type": "code",
   "execution_count": null,
   "metadata": {},
   "outputs": [],
   "source": [
    "from __future__ import division, print_function\n",
    "\n",
    "import GPy\n",
    "import numpy as np\n",
    "import matplotlib.pyplot as plt\n",
    "%matplotlib inline\n",
    "\n",
    "from scipy.optimize import check_grad\n",
    "# Try to import safe_rl from system\n",
    "# if it fails get it from the main folder directly instead.\n",
    "import utilities\n",
    "from plotting import plot_lyapunov_1d\n",
    "\n",
    "# If library not installed, import it from '../'\n",
    "safe_learning = utilities.import_from_directory('safe_learning', '../')"
   ]
  },
  {
   "cell_type": "code",
   "execution_count": null,
   "metadata": {},
   "outputs": [],
   "source": [
    "# TODO: multi-dim state-space?\n",
    "value_function = safe_learning.Triangulation([0, 1], 2, vertex_values=[0, -1])\n",
    "policy = safe_learning.Triangulation([0, 1], 2, vertex_values=[1, 3])\n",
    "\n",
    "gp = GPy.models.GPRegression(np.array([[-0.1, -0.1], [0.9, 0.9]]),\n",
    "                             np.array([[1], [2]]),\n",
    "                             noise_var=0.01**2)\n",
    "dynamics = safe_learning.GPyGaussianProcess(gp, beta=2.)\n",
    "\n",
    "test = np.array([0.1, 0.1])"
   ]
  },
  {
   "cell_type": "code",
   "execution_count": null,
   "metadata": {},
   "outputs": [],
   "source": [
    "import scipy\n",
    "from functools import partial\n",
    "x_test = np.linspace(-1, 1, 100)[:, None]\n",
    "\n",
    "def fun(param, x):\n",
    "    x = np.atleast_2d(x)\n",
    "    policy.parameters = param\n",
    "    return np.sum(value_function(dynamics(x, policy(x))[0]))\n",
    "    \n",
    "def gradient(param, x):\n",
    "    x = np.atleast_2d(x)\n",
    "    policy.parameters = param\n",
    "    \n",
    "    u = policy(x)\n",
    "    \n",
    "    v_grad = value_function.gradient(dynamics(x, u)[0])\n",
    "    d_grad = dynamics.gradient(x, u)[0][:, 1:]\n",
    "    p_grad = policy.parameter_derivative(x).toarray()\n",
    "    \n",
    "    gradient = (v_grad * d_grad) * p_grad \n",
    "    return np.sum(gradient, axis=0)\n",
    "\n",
    "\n",
    "check_grad(fun,\n",
    "           gradient,\n",
    "           [0.5, 1], x_test)\n",
    "# gradient([0.5, 1], x_test)"
   ]
  },
  {
   "cell_type": "code",
   "execution_count": null,
   "metadata": {},
   "outputs": [],
   "source": [
    "domain = [-1, 1]\n",
    "n_points = 50\n",
    "value_function = safe_learning.Triangulation(domain, n_points, project=True)\n",
    "\n",
    "state_space = value_function.all_points\n",
    "action_space = np.linspace(-1, 1, 11)[:, None]\n",
    "\n",
    "gamma = .98\n",
    "\n",
    "a = 1.2\n",
    "b = 1.\n",
    "q = 1.\n",
    "r = 1.\n",
    "\n",
    "def dynamics(states, actions):\n",
    "    \"\"\"Return future states of the car\"\"\"\n",
    "    states = np.atleast_2d(states)\n",
    "    actions = np.atleast_2d(actions)\n",
    "    next_states = a * states + b * actions    \n",
    "    return next_states\n",
    "\n",
    "def dynamics_gradient(states, actions):\n",
    "    return np.hstack((a * np.ones_like(states, dtype=np.float),\n",
    "                      b * np.ones_like(actions, dtype=np.float)))\n",
    "\n",
    "def reward(states, actions, next_states):\n",
    "    states = np.atleast_2d(states)\n",
    "    actions = np.atleast_2d(actions)\n",
    "    return q * states**2 + r * actions**2\n",
    "\n",
    "def reward_gradient(states, actions):\n",
    "    states = np.atleast_2d(states)\n",
    "    actions = np.atleast_2d(actions)\n",
    "    return 2 * np.hstack((q * states, r * actions))\n",
    "    \n",
    "reward_function = safe_learning.DeterministicFunction.from_callable(reward, reward_gradient)\n",
    "\n",
    "dynamics_fun = safe_learning.DeterministicFunction.from_callable(dynamics, dynamics_gradient)"
   ]
  },
  {
   "cell_type": "code",
   "execution_count": null,
   "metadata": {},
   "outputs": [],
   "source": [
    "dynamics_fun.gradient([[1],[1]], [[2],[2]])"
   ]
  },
  {
   "cell_type": "code",
   "execution_count": null,
   "metadata": {},
   "outputs": [],
   "source": [
    "rl = safe_learning.PolicyIteration(\n",
    "    state_space,\n",
    "    action_space,\n",
    "    dynamics_fun,\n",
    "    reward_function,\n",
    "    function_approximator=value_function,\n",
    "    gamma=gamma)\n",
    "\n",
    "\n",
    "policy = safe_learning.Triangulation([-1, 1], 5)\n",
    "\n",
    "initial_param = 0 * policy.all_points\n",
    "policy.parameters = initial_param\n",
    "\n",
    "\n",
    "k, s = safe_learning.utilities.dlqr(a, b, q, r)\n",
    "\n",
    "rl.value_function.parameters = s * rl.state_space ** 2\n",
    "\n",
    "print(k, -a*b/(r + b**2) * s)"
   ]
  },
  {
   "cell_type": "code",
   "execution_count": null,
   "metadata": {},
   "outputs": [],
   "source": [
    "plt.plot(rl.state_space, rl.values)   \n",
    "plt.show()\n",
    "plt.plot(rl.state_space, policy(rl.state_space))"
   ]
  },
  {
   "cell_type": "code",
   "execution_count": null,
   "metadata": {},
   "outputs": [],
   "source": [
    "def fun(param, x):\n",
    "    x = np.atleast_2d(x)\n",
    "    policy = safe_learning.Triangulation([-1, 1], 5)\n",
    "    policy.parameters = param\n",
    "    u = policy(x)\n",
    "    \n",
    "    reward = rl.reward_function(x, u, x)\n",
    "    res = np.sum(reward + rl.value_function(rl.dynamics(x, u)))\n",
    "    return res\n",
    "    \n",
    "def gradient(param, x):\n",
    "    x = np.atleast_2d(x)\n",
    "    policy = safe_learning.Triangulation([-1, 1], 5)\n",
    "    policy.parameters = param\n",
    "    \n",
    "    u = policy(x)\n",
    "    \n",
    "    v_grad = rl.value_function.gradient(rl.dynamics(x, u))\n",
    "    d_grad = rl.dynamics.gradient(x, u)[:, 1:]\n",
    "    p_grad = policy.parameter_derivative(x).toarray()\n",
    "    \n",
    "    r_grad = rl.reward_function.gradient(x, u)[:, 1:]\n",
    "        \n",
    "    gradient = (r_grad + v_grad * d_grad) * p_grad\n",
    "    res = np.sum(gradient, axis=0)\n",
    "    return res\n",
    "\n",
    "from scipy.optimize import check_grad, minimize\n",
    "\n",
    "# check_grad(fun, gradient, -0.5 * policy.all_points, state_space)\n",
    "\n",
    "# gradient(-0.5 * policy.all_points, state_space)"
   ]
  },
  {
   "cell_type": "code",
   "execution_count": null,
   "metadata": {},
   "outputs": [],
   "source": [
    "res = minimize(fun, policy.parameters.copy(), args=(state_space), jac=gradient, method='BFGS')\n",
    "print(res)\n",
    "policy.parameters = res.x"
   ]
  },
  {
   "cell_type": "code",
   "execution_count": null,
   "metadata": {},
   "outputs": [],
   "source": [
    "plt.plot(policy.all_points, initial_param, label='init')\n",
    "plt.plot(state_space, -k * state_space, label='opt', lw=5, alpha=0.5)\n",
    "plt.plot(state_space, policy(state_space), label='new')\n",
    "plt.legend()"
   ]
  },
  {
   "cell_type": "code",
   "execution_count": null,
   "metadata": {},
   "outputs": [],
   "source": []
  }
 ],
 "metadata": {
  "kernelspec": {
   "display_name": "Python [default]",
   "language": "python",
   "name": "python2"
  },
  "language_info": {
   "codemirror_mode": {
    "name": "ipython",
    "version": 2
   },
   "file_extension": ".py",
   "mimetype": "text/x-python",
   "name": "python",
   "nbconvert_exporter": "python",
   "pygments_lexer": "ipython2",
   "version": "2.7.13"
  }
 },
 "nbformat": 4,
 "nbformat_minor": 2
}
