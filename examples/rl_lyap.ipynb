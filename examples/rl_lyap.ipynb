{
 "cells": [
  {
   "cell_type": "code",
   "execution_count": null,
   "metadata": {
    "collapsed": false
   },
   "outputs": [],
   "source": [
    "from __future__ import division, print_function\n",
    "\n",
    "import GPy\n",
    "import numpy as np\n",
    "import matplotlib.pyplot as plt\n",
    "from functools import partial\n",
    "%matplotlib inline\n",
    "\n",
    "# Try to import safe_rl from system\n",
    "# if it fails get it from the main folder directly instead.\n",
    "import utilities\n",
    "from plotting import plot_lyapunov_1d\n",
    "\n",
    "# If library not installed, import it from '../'\n",
    "safe_learning = utilities.import_from_directory('safe_learning', '../')"
   ]
  },
  {
   "cell_type": "markdown",
   "metadata": {},
   "source": [
    "### Goal:\n",
    "\n",
    "Optimize over the policy such that the safe set does not shrink"
   ]
  },
  {
   "cell_type": "markdown",
   "metadata": {},
   "source": [
    "We start by defining a discretization of the space $[-1, 1]$ with discretization constant $\\tau$"
   ]
  },
  {
   "cell_type": "code",
   "execution_count": null,
   "metadata": {
    "collapsed": false
   },
   "outputs": [],
   "source": [
    "# x_min, x_max, discretization\n",
    "extent = np.array([-1., 1.])\n",
    "state_limits = extent\n",
    "num_states = 1000\n",
    "action_limits = np.array([-1., 1.])\n",
    "num_actions = 51\n",
    "\n",
    "action_space = np.linspace(action_limits[0], action_limits[1], num_actions)[:, None]\n",
    "\n",
    "# Create a grid\n",
    "discretization = safe_learning.GridWorld([extent], num_states)\n",
    "grid = discretization.all_points\n",
    "state_space = grid\n",
    "\n",
    "# Discretization constant\n",
    "tau = discretization.unit_maxes.squeeze()\n",
    "\n",
    "# Initial policy: All zeros\n",
    "policy = action_space[num_actions // 2] * np.ones((len(discretization), 1))\n",
    "\n",
    "print('Grid size: {0}'.format(len(grid)))"
   ]
  },
  {
   "cell_type": "markdown",
   "metadata": {},
   "source": [
    "We define the GP model using one particular sample of the GP, in addition to a stable, closed-loop, linear model.\n",
    "$$x_{l+1} = 0.25 x_k + g_\\pi(x),$$\n",
    "\n",
    "The prior dynamics are locally asymptotically stable. Moreover, in the one-dimensional case, the dynamics are stable as long as $|x_{k+1}| \\leq |x_{k}|$."
   ]
  },
  {
   "cell_type": "code",
   "execution_count": null,
   "metadata": {
    "collapsed": false
   },
   "outputs": [],
   "source": [
    "kernel = GPy.kern.Matern32(2, lengthscale=0.2, variance=0.4**2) * GPy.kern.Linear(2, variances=1)\n",
    "# kernel = GPy.kern.Linear(2, variances=0.004**2)\n",
    "# Observation noise\n",
    "noise_var = 0.01 ** 2\n",
    "\n",
    "# Mean dynamics\n",
    "mf = GPy.core.Mapping(2, 1)\n",
    "mf.f = lambda x: 0.8 * x[:, [0]] + x[:, [1]]\n",
    "mf.update_gradients = lambda a, b: None\n",
    "\n",
    "# Define one sample as the true dynamics\n",
    "true_dynamics = safe_learning.sample_gp_function(\n",
    "    kernel,\n",
    "    [state_limits, action_limits],\n",
    "    num_samples=20,\n",
    "    noise_var=noise_var,\n",
    "    interpolation='kernel',\n",
    "    mean_function=mf.f)\n",
    "\n",
    "# Define a GP model over the dynamics\n",
    "gp = GPy.models.GPRegression(np.array([[0, 0]]),\n",
    "                             np.array([[0]]),\n",
    "                             kernel,\n",
    "                             noise_var=noise_var,\n",
    "                             mean_function=mf)"
   ]
  },
  {
   "cell_type": "markdown",
   "metadata": {},
   "source": [
    "Additionally we define a random lyapunov function. Unlike for multiple dimensions, in the one-dimensional case all radially increasing functions are equivalent. Here we pick\n",
    "$$V(x) = x^2$$\n",
    "The previous GP model defines a GP model over $\\dot{V}(x) = \\frac{\\partial V(x)}{\\partial x} f(x)$. In the following, we only consider the 2-$\\sigma$ upper confidence bound of this model. Since the dynamics are Lipschitz continuous, $\\dot{V}$ is Lipschitz continuous as well.\n",
    "\n",
    "In particular, we use Lemma 5 to determine an appropriate Lipschitz constant. For the sample path of the GP, we use the high-probability Lipschitz constant encoded by the kernel."
   ]
  },
  {
   "cell_type": "code",
   "execution_count": null,
   "metadata": {
    "collapsed": false
   },
   "outputs": [],
   "source": [
    "# lyapunov_function = safe_learning.QuadraticFunction(np.array([[1]]))\n",
    "# n_linear = 10\n",
    "# lyapunov_function = safe_learning.Triangulation(extent[None, :], n_linear)\n",
    "# points = lyapunov_function.index_to_state(np.arange(lyapunov_function.nindex))\n",
    "# lyapunov_function.vertex_values = points.squeeze() ** 2\n",
    "lyapunov_function = safe_learning.Triangulation(state_limits[None, :], 3, vertex_values=[1, 0, 1])\n",
    "\n",
    "dynamics = safe_learning.GPyGaussianProcess(gp, beta=2.)\n",
    "\n",
    "# Lipschitz constant\n",
    "L_dyn = 0.25 + dynamics.beta(0) * np.sqrt(gp.kern.Mat32.variance) / gp.kern.Mat32.lengthscale * np.max(np.abs(extent))\n",
    "L_V = np.max(lyapunov_function.gradient(grid))\n",
    "\n",
    "lyapunov = safe_learning.LyapunovDiscrete(grid, lyapunov_function, dynamics, L_dyn, L_V, tau, initial_set=None, policy=policy)\n",
    "\n",
    "# Specify the desired accuracy\n",
    "accuracy = np.max(lyapunov.V) / 1e10"
   ]
  },
  {
   "cell_type": "markdown",
   "metadata": {},
   "source": [
    "### RL"
   ]
  },
  {
   "cell_type": "code",
   "execution_count": null,
   "metadata": {
    "collapsed": true
   },
   "outputs": [],
   "source": [
    "mean_dynamics = dynamics.to_mean_function()\n",
    "\n",
    "def reward_function(state, action, next_state):\n",
    "    \"\"\"The reward.\"\"\"\n",
    "    values = -(state ** 2)\n",
    "    values[np.abs(state[:, 0]) <= 0.1] = 0\n",
    "    return values\n",
    "\n",
    "value_function = safe_learning.Triangulation(state_limits[None, :], num_states, project=True)\n",
    "value_function.vertex_values = np.ones(value_function.nindex)\n",
    "\n",
    "rl = safe_learning.PolicyIteration(\n",
    "    state_space,\n",
    "    action_space,\n",
    "    mean_dynamics,\n",
    "    reward_function,\n",
    "    function_approximator=value_function,\n",
    "    gamma=0.9,\n",
    "    terminal_states=np.abs(state_space[:, 0]) <= 0.1)"
   ]
  },
  {
   "cell_type": "code",
   "execution_count": null,
   "metadata": {
    "collapsed": true
   },
   "outputs": [],
   "source": [
    "for i in range(10):\n",
    "    rl.update_value_function()\n",
    "    rl.update_policy()"
   ]
  },
  {
   "cell_type": "code",
   "execution_count": null,
   "metadata": {
    "collapsed": true
   },
   "outputs": [],
   "source": [
    "plt.plot(rl.state_space, rl.values)\n",
    "plt.show()\n",
    "plt.plot(rl.state_space, rl.policy)\n",
    "plt.show()\n",
    "plt.plot(rl.state_space, mean_dynamics.evaluate(rl.state_space, rl.policy))\n",
    "plt.show()"
   ]
  },
  {
   "cell_type": "markdown",
   "metadata": {},
   "source": [
    "## Safety based on GP model\n",
    "\n",
    "Let's start by plotting the prior over the dynamics and the associated prior over $\\dot{V}(x)$."
   ]
  },
  {
   "cell_type": "code",
   "execution_count": null,
   "metadata": {
    "collapsed": false
   },
   "outputs": [],
   "source": [
    "lyapunov.initial_safe_set = np.abs(lyapunov.discretization.squeeze()) < 0.1\n",
    "\n",
    "lyapunov.update_safe_set(accuracy=accuracy)\n",
    "plot_lyapunov_1d(lyapunov, true_dynamics, legend=True)"
   ]
  },
  {
   "cell_type": "markdown",
   "metadata": {},
   "source": [
    "## Online learning\n",
    "As we sample within this initial safe set, we gain more knowledge about the system. In particular, we iteratively select the state withing the safe set, $\\mathcal{S}_n$, where the dynamics are the most uncertain (highest variance)."
   ]
  },
  {
   "cell_type": "code",
   "execution_count": null,
   "metadata": {
    "collapsed": false
   },
   "outputs": [],
   "source": [
    "def update_gp():\n",
    "    \"\"\"Update the GP model based on an actively selected data point.\"\"\"\n",
    "    lyapunov.update_safe_set(accuracy=accuracy)\n",
    "    safe_set = lyapunov.safe_set\n",
    "    \n",
    "    # Maximum uncertainty in safe set\n",
    "    dynamics_mean, dynamics_std = lyapunov.dynamics(grid, policy)\n",
    "    max_id = np.argmax(dynamics_std[safe_set])\n",
    "    max_state = grid[safe_set][[max_id], :]\n",
    "    max_input = policy[safe_set][[max_id], :]\n",
    "    \n",
    "    # Add newly obtained data point to the GP\n",
    "    measurement = true_dynamics(max_state, max_input, noise=True)[:, [0]]\n",
    "    a = np.hstack((max_state, max_input))\n",
    "    lyapunov.dynamics.add_data_point(a, measurement)\n",
    "    return safe_set"
   ]
  },
  {
   "cell_type": "code",
   "execution_count": null,
   "metadata": {
    "collapsed": false
   },
   "outputs": [],
   "source": [
    "# Update the GP model a couple of times\n",
    "for i in range(4):\n",
    "    update_gp()"
   ]
  },
  {
   "cell_type": "code",
   "execution_count": null,
   "metadata": {
    "collapsed": false
   },
   "outputs": [],
   "source": [
    "# Plot the new safe set\n",
    "lyapunov.update_safe_set(accuracy=accuracy)\n",
    "plot_lyapunov_1d(lyapunov, true_dynamics, legend=True)"
   ]
  },
  {
   "cell_type": "markdown",
   "metadata": {},
   "source": [
    "We continue to sample like this, until we find the maximum safe set"
   ]
  },
  {
   "cell_type": "code",
   "execution_count": null,
   "metadata": {
    "collapsed": false
   },
   "outputs": [],
   "source": [
    "for i in range(20):\n",
    "    update_gp()\n",
    "\n",
    "lyapunov.update_safe_set(accuracy=accuracy)\n",
    "plot_lyapunov_1d(lyapunov, true_dynamics, legend=False)"
   ]
  },
  {
   "cell_type": "code",
   "execution_count": null,
   "metadata": {},
   "outputs": [],
   "source": [
    "for i in range(5):\n",
    "    rl.optimize_value_function()\n",
    "    rl.update_policy(constraint=lyapunov.safety_constraint)\n",
    "\n",
    "# Update the policy wherever safe\n",
    "safe = lyapunov.safety_constraint(rl.policy)\n",
    "safe &= ~lyapunov.initial_safe_set\n",
    "lyapunov.policy[safe] = rl.policy[safe]\n",
    "\n",
    "lyapunov.update_safe_set(accuracy=accuracy)\n",
    "plot_lyapunov_1d(lyapunov, true_dynamics, legend=False)"
   ]
  },
  {
   "cell_type": "code",
   "execution_count": null,
   "metadata": {},
   "outputs": [],
   "source": []
  }
 ],
 "metadata": {
  "anaconda-cloud": {},
  "kernelspec": {
   "display_name": "Python [default]",
   "language": "python",
   "name": "python2"
  },
  "language_info": {
   "codemirror_mode": {
    "name": "ipython",
    "version": 2
   },
   "file_extension": ".py",
   "mimetype": "text/x-python",
   "name": "python",
   "nbconvert_exporter": "python",
   "pygments_lexer": "ipython2",
   "version": "2.7.13"
  }
 },
 "nbformat": 4,
 "nbformat_minor": 1
}
