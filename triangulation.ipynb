{
 "cells": [
  {
   "cell_type": "code",
   "execution_count": null,
   "metadata": {
    "collapsed": false
   },
   "outputs": [],
   "source": [
    "from __future__ import division, print_function\n",
    "\n",
    "import safe_rl\n",
    "import numpy as np\n",
    "\n",
    "import matplotlib.pyplot as plt\n",
    "%matplotlib inline"
   ]
  },
  {
   "cell_type": "markdown",
   "metadata": {},
   "source": [
    "### Test the triangulation\n",
    "\n",
    "Create a triangulation on a grid and plot the corresponding results.\n",
    "Then take a test point and return in which simplex the corresponding point lies\n",
    "\n",
    "The naming and indexing convention follows the standard C-indexing style (last index moves the fastest).\n",
    "\n",
    "The space is split up into regular hyperrectangles, as given by the limits and npoints arguments. These rectangles are indexed from 0 onwards. Within each hyperrectangle is a delaunay triangulation, which is computed only for one of them (the code is basically a wrapper around ```scipy.spatial.Delaunay```.).\n",
    "\n",
    "Within each hyperrectangle, the order of the triangle indeces is determined by the Delaunay decomposition. Outside, it is given by ```#rectangle * nsimplex + #simplex```, where ```#rectangle``` is the index of the rectangle, ```nsimplex``` is the number of simpleces per hyperrectangle, and ```#simplex``` is the index of the simplex within the rectangle, as given by the Delaunay decomposition."
   ]
  },
  {
   "cell_type": "code",
   "execution_count": null,
   "metadata": {
    "collapsed": true
   },
   "outputs": [],
   "source": [
    "limits = [[-1, 1], [-1, 1]]\n",
    "npoints = [2, 3]\n",
    "\n",
    "# Create triangulation\n",
    "tri = safe_rl.Delaunay(limits, npoints)"
   ]
  },
  {
   "cell_type": "code",
   "execution_count": null,
   "metadata": {
    "collapsed": false
   },
   "outputs": [],
   "source": [
    "# Get all simplices and points\n",
    "simplices = tri.simplices(np.arange(tri.nsimplex))\n",
    "points = tri.index_to_state(np.arange(tri.nindex))\n",
    "\n",
    "# colors\n",
    "simplex_color = 'g'\n",
    "node_color = 'b'\n",
    "rect_color = 'k'\n",
    "\n",
    "# Plot nodes\n",
    "plt.plot(points[:, 0], points[:, 1], 'o', color=node_color)\n",
    "\n",
    "# Annotate nodes\n",
    "for p in points:\n",
    "    plt.text(p[0] - 0.03, p[1] + 0.03,\n",
    "             tri.state_to_index(p)[0],\n",
    "             ha='right', color=node_color)\n",
    "\n",
    "# Annotate rectangles\n",
    "rectangles = tri.rectangle_to_state(np.arange(tri.nrectangles))\n",
    "rectangles += tri.unit_maxes / 2\n",
    "for i, point in enumerate(rectangles):\n",
    "    plt.text(point[0], point[1], '#%d' % i,\n",
    "             ha='center', color=rect_color)\n",
    "\n",
    "# Plot triangles\n",
    "plt.triplot(points[:, 0], points[:, 1], simplices.copy(),\n",
    "            color=simplex_color)\n",
    "\n",
    "# Annotate triangles\n",
    "for i, simplex in enumerate(simplices):\n",
    "    p = points[simplex].mean(axis=0)\n",
    "    plt.text(p[0], p[1], '#%d' % i,\n",
    "             ha='center', color=simplex_color)\n",
    "\n",
    "# Format plot nicely\n",
    "offset = 0.1 * np.array([-1, 1])\n",
    "plt.xlim(tri.limits[0] + offset * np.diff(tri.limits[0]))\n",
    "plt.ylim(tri.limits[1] + offset * np.diff(tri.limits[1]))\n",
    "\n",
    "\n",
    "# test points\n",
    "test_point = np.array([[0.9, 0.9],\n",
    "                       [-0.5, -0.2]])\n",
    "plt.plot(test_point[0], test_point[1], 'x')\n",
    "plt.show()\n",
    "\n",
    "# Output the result of the evaluation\n",
    "simplices = tri.find_simplex(test_point)\n",
    "simplex_nodes = tri.simplices(simplices)\n",
    "\n",
    "print('Evaluation results for test points:\\n')\n",
    "for index, nodes in zip(simplices, simplex_nodes):\n",
    "    print(\"simplex {id} with nodes {nodes}\".format(id=index, nodes=nodes))\n"
   ]
  },
  {
   "cell_type": "markdown",
   "metadata": {},
   "source": [
    "### Naive implementation in scipy\n",
    "\n",
    "This is just the vanilla scipy implementation of Delaunay"
   ]
  },
  {
   "cell_type": "code",
   "execution_count": null,
   "metadata": {
    "collapsed": false
   },
   "outputs": [],
   "source": [
    "tri = safe_rl.ScipyDelaunay(limits, npoints)\n",
    "points = tri.points\n",
    "simplices = tri.simplices\n",
    "\n",
    "# Plot nodes\n",
    "plt.plot(points[:, 0], points[:, 1], 'o', color=node_color)\n",
    "\n",
    "# Annotate nodes\n",
    "for i, p in enumerate(points):\n",
    "    plt.text(p[0] - 0.03, p[1] + 0.03, i,\n",
    "             ha='right', color=node_color)\n",
    "    \n",
    "# Plot triangles\n",
    "plt.triplot(points[:, 0], points[:, 1], simplices.copy(),\n",
    "            color=simplex_color)\n",
    "\n",
    "# Annotate triangles\n",
    "for i, simplex in enumerate(simplices):\n",
    "    p = points[simplex].mean(axis=0)\n",
    "    plt.text(p[0], p[1], '#%d' % i,\n",
    "             ha='center', color=simplex_color)\n",
    "    \n",
    "# Format plot nicely\n",
    "offset = 0.1 * np.array([-1, 1])\n",
    "plt.xlim(tri.limits[0] + offset * np.diff(tri.limits[0]))\n",
    "plt.ylim(tri.limits[1] + offset * np.diff(tri.limits[1]))"
   ]
  },
  {
   "cell_type": "markdown",
   "metadata": {},
   "source": [
    "### Speed comparison"
   ]
  },
  {
   "cell_type": "code",
   "execution_count": null,
   "metadata": {
    "collapsed": false
   },
   "outputs": [],
   "source": [
    "test_points = np.arange(10, 51, 5)\n",
    "ntrials = 5\n",
    "time = np.empty((len(test_points), 2), dtype=np.float)\n",
    "\n",
    "for i, n in enumerate(test_points):\n",
    "    npoints = [n, n]\n",
    "\n",
    "    time[i, 0] = timeit.timeit('import safe_rl; safe_rl.Delaunay({0}, {1})'\n",
    "                             .format(limits, npoints),\n",
    "                             number=ntrials)\n",
    "\n",
    "    time[i, 1] = timeit.timeit('import safe_rl; safe_rl.ScipyDelaunay({0}, {1})'\n",
    "                               .format(limits, npoints),\n",
    "                               number=ntrials)\n",
    "\n",
    "ntriangles = 2 * test_points ** 2\n",
    "\n",
    "plt.plot(ntriangles, time[:, 0], label='efficient')\n",
    "plt.plot(ntriangles, time[:, 1], label='scipy')\n",
    "plt.ylabel('Computation time [s]')\n",
    "plt.xlabel('Number of triangles')\n",
    "plt.legend()\n",
    "plt.show()"
   ]
  }
 ],
 "metadata": {
  "kernelspec": {
   "display_name": "Python 2",
   "language": "python",
   "name": "python2"
  },
  "language_info": {
   "codemirror_mode": {
    "name": "ipython",
    "version": 2
   },
   "file_extension": ".py",
   "mimetype": "text/x-python",
   "name": "python",
   "nbconvert_exporter": "python",
   "pygments_lexer": "ipython2",
   "version": "2.7.12"
  }
 },
 "nbformat": 4,
 "nbformat_minor": 0
}
