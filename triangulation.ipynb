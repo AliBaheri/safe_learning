{
 "cells": [
  {
   "cell_type": "code",
   "execution_count": null,
   "metadata": {
    "collapsed": false
   },
   "outputs": [],
   "source": [
    "from __future__ import division, print_function\n",
    "\n",
    "import safe_rl\n",
    "import numpy as np\n",
    "\n",
    "import matplotlib.pyplot as plt\n",
    "%matplotlib inline"
   ]
  },
  {
   "cell_type": "code",
   "execution_count": null,
   "metadata": {
    "collapsed": false
   },
   "outputs": [],
   "source": [
    "# Create triangulation\n",
    "triang = safe_rl.Delaunay([[-1, 1], [-1, 1]], [2, 3])\n",
    "\n",
    "simplices = triang.simplices(np.arange(triang.nsimplex))\n",
    "points = triang.index_to_state(np.arange(triang.nindex))\n",
    "\n",
    "# Plot nodes\n",
    "plt.plot(points[:, 0], points[:, 1], 'o')\n",
    "\n",
    "# Annotate nodes\n",
    "for p in points:\n",
    "    plt.text(p[0] - 0.03, p[1] + 0.03,\n",
    "             triang.state_to_index(p)[0], ha='right')\n",
    "\n",
    "# Plot triangles\n",
    "plt.triplot(points[:,0], points[:,1], simplices.copy())\n",
    "\n",
    "# Annotate triangles\n",
    "for i, simplex in enumerate(simplices):\n",
    "    p = points[simplex].mean(axis=0)\n",
    "    plt.text(p[0], p[1],\n",
    "             '#%d' % i, ha='center')\n",
    "\n",
    "# Format plot nicely\n",
    "offset = np.array([-0.5, 0.5])\n",
    "plt.xlim(triang.limits[0] + offset)\n",
    "plt.ylim(triang.limits[1] + offset)\n",
    "\n",
    "\n",
    "# test point\n",
    "test_point = np.array([[0.9, 0.9],\n",
    "                       [-0.5, -0.2]])\n",
    "plt.plot(test_point[0], test_point[1], 'x')\n",
    "plt.show()\n",
    "\n",
    "# Output some text\n",
    "simplices = triang.find_simplex(test_point)\n",
    "simplex_nodes = triang.simplices(simplices)\n",
    "\n",
    "for index, nodes in zip(simplices, simplex_nodes):\n",
    "    print(\"simplex {id} with nodes {nodes}\".format(id=index, nodes=nodes))\n"
   ]
  },
  {
   "cell_type": "code",
   "execution_count": null,
   "metadata": {
    "collapsed": true
   },
   "outputs": [],
   "source": []
  }
 ],
 "metadata": {
  "kernelspec": {
   "display_name": "Python 2",
   "language": "python",
   "name": "python2"
  },
  "language_info": {
   "codemirror_mode": {
    "name": "ipython",
    "version": 2
   },
   "file_extension": ".py",
   "mimetype": "text/x-python",
   "name": "python",
   "nbconvert_exporter": "python",
   "pygments_lexer": "ipython2",
   "version": "2.7.12"
  }
 },
 "nbformat": 4,
 "nbformat_minor": 0
}
