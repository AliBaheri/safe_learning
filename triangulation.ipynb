{
 "cells": [
  {
   "cell_type": "code",
   "execution_count": null,
   "metadata": {
    "collapsed": false
   },
   "outputs": [],
   "source": [
    "from __future__ import division, print_function\n",
    "\n",
    "import safe_rl\n",
    "import numpy as np\n",
    "\n",
    "import matplotlib.pyplot as plt\n",
    "%matplotlib inline"
   ]
  },
  {
   "cell_type": "markdown",
   "metadata": {},
   "source": [
    "### Test the triangulation\n",
    "\n",
    "Create a triangulation on a grid and plot the corresponding results.\n",
    "Then take a test point and return in which simplex the corresponding point lies"
   ]
  },
  {
   "cell_type": "code",
   "execution_count": null,
   "metadata": {
    "collapsed": true
   },
   "outputs": [],
   "source": [
    "limits = [[-1, 1], [-1, 1]]\n",
    "npoints = [2, 3]\n",
    "\n",
    "# Create triangulation\n",
    "tri = safe_rl.Delaunay(limits, npoints)"
   ]
  },
  {
   "cell_type": "code",
   "execution_count": null,
   "metadata": {
    "collapsed": false
   },
   "outputs": [],
   "source": [
    "# Get all simplices and points\n",
    "simplices = tri.simplices(np.arange(tri.nsimplex))\n",
    "points = tri.index_to_state(np.arange(tri.nindex))\n",
    "\n",
    "# Plot nodes\n",
    "plt.plot(points[:, 0], points[:, 1], 'o')\n",
    "\n",
    "# Annotate nodes\n",
    "for p in points:\n",
    "    plt.text(p[0] - 0.03, p[1] + 0.03,\n",
    "             tri.state_to_index(p)[0], ha='right')\n",
    "\n",
    "# Plot triangles\n",
    "plt.triplot(points[:,0], points[:,1], simplices.copy())\n",
    "\n",
    "# Annotate triangles\n",
    "for i, simplex in enumerate(simplices):\n",
    "    p = points[simplex].mean(axis=0)\n",
    "    plt.text(p[0], p[1],\n",
    "             '#%d' % i, ha='center')\n",
    "\n",
    "# Format plot nicely\n",
    "offset = 0.1 * np.array([-1, 1])\n",
    "plt.xlim(tri.limits[0] + offset * np.diff(tri.limits[0]))\n",
    "plt.ylim(tri.limits[1] + offset * np.diff(tri.limits[1]))\n",
    "\n",
    "\n",
    "# test points\n",
    "test_point = np.array([[0.9, 0.9],\n",
    "                       [-0.5, -0.2]])\n",
    "plt.plot(test_point[0], test_point[1], 'x')\n",
    "plt.show()\n",
    "\n",
    "# Output the result of the evaluation\n",
    "simplices = tri.find_simplex(test_point)\n",
    "simplex_nodes = tri.simplices(simplices)\n",
    "\n",
    "print('Evaluation results for test points:\\n')\n",
    "for index, nodes in zip(simplices, simplex_nodes):\n",
    "    print(\"simplex {id} with nodes {nodes}\".format(id=index, nodes=nodes))\n"
   ]
  },
  {
   "cell_type": "code",
   "execution_count": null,
   "metadata": {
    "collapsed": true
   },
   "outputs": [],
   "source": []
  }
 ],
 "metadata": {
  "kernelspec": {
   "display_name": "Python 2",
   "language": "python",
   "name": "python2"
  },
  "language_info": {
   "codemirror_mode": {
    "name": "ipython",
    "version": 2
   },
   "file_extension": ".py",
   "mimetype": "text/x-python",
   "name": "python",
   "nbconvert_exporter": "python",
   "pygments_lexer": "ipython2",
   "version": "2.7.12"
  }
 },
 "nbformat": 4,
 "nbformat_minor": 0
}
